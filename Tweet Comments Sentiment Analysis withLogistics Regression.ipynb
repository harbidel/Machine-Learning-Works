{
  "nbformat": 4,
  "nbformat_minor": 5,
  "metadata": {
    "kernelspec": {
      "display_name": "Python 3",
      "language": "python",
      "name": "python3"
    },
    "language_info": {
      "codemirror_mode": {
        "name": "ipython",
        "version": 3
      },
      "file_extension": ".py",
      "mimetype": "text/x-python",
      "name": "python",
      "nbconvert_exporter": "python",
      "pygments_lexer": "ipython3",
      "version": "3.8.8"
    },
    "colab": {
      "name": "Sentiment Analysis_Logistics Regression.ipynb",
      "provenance": []
    }
  },
  "cells": [
    {
      "cell_type": "code",
      "metadata": {
        "id": "6b241b56"
      },
      "source": [
        "import pandas as pd\n",
        "import numpy as np\n",
        "from sklearn.datasets import make_classification\n",
        "import matplotlib.pyplot as plt\n",
        "from matplotlib import pyplot as plt\n",
        "plt.style.use('fivethirtyeight')\n",
        "from textblob import TextBlob\n",
        "from wordcloud import WordCloud\n",
        "from sklearn.naive_bayes import GaussianNB\n",
        "from sklearn import preprocessing\n",
        "from sklearn.preprocessing import LabelEncoder\n",
        "from sklearn.linear_model import LogisticRegression\n",
        "from sklearn.metrics import classification_report, confusion_matrix\n",
        "from sklearn.datasets import load_digits\n",
        "from sklearn.model_selection import train_test_split\n",
        "from sklearn.preprocessing import StandardScaler\n",
        "from sklearn.model_selection import train_test_split"
      ],
      "id": "6b241b56",
      "execution_count": null,
      "outputs": []
    },
    {
      "cell_type": "code",
      "metadata": {
        "id": "f5577a9e"
      },
      "source": [
        "df = pd.read_excel('Sentiment Analysis_Advanced.xlsx')\n",
        "\n",
        "\n",
        "def cleanTxt(text):\n",
        "   text =re.sub(r'@[A-Za-z0-9]+', '', text)\n",
        "   text =re.sub(r'#', '', text)\n",
        "   text =re.sub(r'https?:\\/\\/\\S+', '', text)\n",
        "   text =re.sub(r'?', '', text)\n",
        "   return text \n",
        "\n",
        "   df['Comment_Content'] = df['Comment_Content'].apply(cleanTxt)\n"
      ],
      "id": "f5577a9e",
      "execution_count": null,
      "outputs": []
    },
    {
      "cell_type": "code",
      "metadata": {
        "scrolled": true,
        "colab": {
          "base_uri": "https://localhost:8080/",
          "height": 424
        },
        "id": "e34b2d53",
        "outputId": "20acfaa2-c1d0-43a8-e8d5-3d0ab266f335"
      },
      "source": [
        "df"
      ],
      "id": "e34b2d53",
      "execution_count": null,
      "outputs": [
        {
          "output_type": "execute_result",
          "data": {
            "text/html": [
              "<div>\n",
              "<style scoped>\n",
              "    .dataframe tbody tr th:only-of-type {\n",
              "        vertical-align: middle;\n",
              "    }\n",
              "\n",
              "    .dataframe tbody tr th {\n",
              "        vertical-align: top;\n",
              "    }\n",
              "\n",
              "    .dataframe thead th {\n",
              "        text-align: right;\n",
              "    }\n",
              "</style>\n",
              "<table border=\"1\" class=\"dataframe\">\n",
              "  <thead>\n",
              "    <tr style=\"text-align: right;\">\n",
              "      <th></th>\n",
              "      <th>Comment_Content</th>\n",
              "    </tr>\n",
              "  </thead>\n",
              "  <tbody>\n",
              "    <tr>\n",
              "      <th>0</th>\n",
              "      <td>said it today, so should</td>\n",
              "    </tr>\n",
              "    <tr>\n",
              "      <th>1</th>\n",
              "      <td>If he lists enough specific examples of stuff ...</td>\n",
              "    </tr>\n",
              "    <tr>\n",
              "      <th>2</th>\n",
              "      <td>I’m not sure he can say it isn’t working but h...</td>\n",
              "    </tr>\n",
              "    <tr>\n",
              "      <th>3</th>\n",
              "      <td>Here's what Keir Starmer should say (in more p...</td>\n",
              "    </tr>\n",
              "    <tr>\n",
              "      <th>4</th>\n",
              "      <td>Something changed recently\\n\\nMany large, hous...</td>\n",
              "    </tr>\n",
              "    <tr>\n",
              "      <th>...</th>\n",
              "      <td>...</td>\n",
              "    </tr>\n",
              "    <tr>\n",
              "      <th>273</th>\n",
              "      <td>But it's not - Wales' two largest employers by...</td>\n",
              "    </tr>\n",
              "    <tr>\n",
              "      <th>274</th>\n",
              "      <td>Free flights and $1,000 vouchers: Australian h...</td>\n",
              "    </tr>\n",
              "    <tr>\n",
              "      <th>275</th>\n",
              "      <td>Australia might be locked down for years if th...</td>\n",
              "    </tr>\n",
              "    <tr>\n",
              "      <th>276</th>\n",
              "      <td>Couldn’t agree more. How about they throw thos...</td>\n",
              "    </tr>\n",
              "    <tr>\n",
              "      <th>277</th>\n",
              "      <td>Here we go re 2018</td>\n",
              "    </tr>\n",
              "  </tbody>\n",
              "</table>\n",
              "<p>278 rows × 1 columns</p>\n",
              "</div>"
            ],
            "text/plain": [
              "                                       Comment_Content\n",
              "0                             said it today, so should\n",
              "1    If he lists enough specific examples of stuff ...\n",
              "2    I’m not sure he can say it isn’t working but h...\n",
              "3    Here's what Keir Starmer should say (in more p...\n",
              "4    Something changed recently\\n\\nMany large, hous...\n",
              "..                                                 ...\n",
              "273  But it's not - Wales' two largest employers by...\n",
              "274  Free flights and $1,000 vouchers: Australian h...\n",
              "275  Australia might be locked down for years if th...\n",
              "276  Couldn’t agree more. How about they throw thos...\n",
              "277                                 Here we go re 2018\n",
              "\n",
              "[278 rows x 1 columns]"
            ]
          },
          "metadata": {},
          "execution_count": 3
        }
      ]
    },
    {
      "cell_type": "code",
      "metadata": {
        "colab": {
          "base_uri": "https://localhost:8080/",
          "height": 424
        },
        "id": "de8ddc0b",
        "outputId": "c9379851-f194-4b25-8832-76caec0cc7da"
      },
      "source": [
        "\n",
        "def getSubjectivity(text):\n",
        "    return TextBlob(text).sentiment.subjectivity\n",
        "\n",
        "#Create a function to get the polarity\n",
        "\n",
        "def getPolarity(text):\n",
        "    return TextBlob(text).sentiment.polarity\n",
        "\n",
        "#Create columns: Subjectivity and Polarity\n",
        "\n",
        "df['Subjectivity'] = df['Comment_Content'].apply(getSubjectivity)\n",
        "df['Polarity'] = df['Comment_Content'].apply(getPolarity)\n",
        "\n",
        "df"
      ],
      "id": "de8ddc0b",
      "execution_count": null,
      "outputs": [
        {
          "output_type": "execute_result",
          "data": {
            "text/html": [
              "<div>\n",
              "<style scoped>\n",
              "    .dataframe tbody tr th:only-of-type {\n",
              "        vertical-align: middle;\n",
              "    }\n",
              "\n",
              "    .dataframe tbody tr th {\n",
              "        vertical-align: top;\n",
              "    }\n",
              "\n",
              "    .dataframe thead th {\n",
              "        text-align: right;\n",
              "    }\n",
              "</style>\n",
              "<table border=\"1\" class=\"dataframe\">\n",
              "  <thead>\n",
              "    <tr style=\"text-align: right;\">\n",
              "      <th></th>\n",
              "      <th>Comment_Content</th>\n",
              "      <th>Subjectivity</th>\n",
              "      <th>Polarity</th>\n",
              "    </tr>\n",
              "  </thead>\n",
              "  <tbody>\n",
              "    <tr>\n",
              "      <th>0</th>\n",
              "      <td>said it today, so should</td>\n",
              "      <td>0.000000</td>\n",
              "      <td>0.000000</td>\n",
              "    </tr>\n",
              "    <tr>\n",
              "      <th>1</th>\n",
              "      <td>If he lists enough specific examples of stuff ...</td>\n",
              "      <td>0.375000</td>\n",
              "      <td>0.000000</td>\n",
              "    </tr>\n",
              "    <tr>\n",
              "      <th>2</th>\n",
              "      <td>I’m not sure he can say it isn’t working but h...</td>\n",
              "      <td>0.588889</td>\n",
              "      <td>-0.250000</td>\n",
              "    </tr>\n",
              "    <tr>\n",
              "      <th>3</th>\n",
              "      <td>Here's what Keir Starmer should say (in more p...</td>\n",
              "      <td>0.500000</td>\n",
              "      <td>0.500000</td>\n",
              "    </tr>\n",
              "    <tr>\n",
              "      <th>4</th>\n",
              "      <td>Something changed recently\\n\\nMany large, hous...</td>\n",
              "      <td>0.669643</td>\n",
              "      <td>0.041071</td>\n",
              "    </tr>\n",
              "    <tr>\n",
              "      <th>...</th>\n",
              "      <td>...</td>\n",
              "      <td>...</td>\n",
              "      <td>...</td>\n",
              "    </tr>\n",
              "    <tr>\n",
              "      <th>273</th>\n",
              "      <td>But it's not - Wales' two largest employers by...</td>\n",
              "      <td>0.273333</td>\n",
              "      <td>0.200000</td>\n",
              "    </tr>\n",
              "    <tr>\n",
              "      <th>274</th>\n",
              "      <td>Free flights and $1,000 vouchers: Australian h...</td>\n",
              "      <td>0.400000</td>\n",
              "      <td>0.200000</td>\n",
              "    </tr>\n",
              "    <tr>\n",
              "      <th>275</th>\n",
              "      <td>Australia might be locked down for years if th...</td>\n",
              "      <td>0.212963</td>\n",
              "      <td>-0.107407</td>\n",
              "    </tr>\n",
              "    <tr>\n",
              "      <th>276</th>\n",
              "      <td>Couldn’t agree more. How about they throw thos...</td>\n",
              "      <td>0.308333</td>\n",
              "      <td>0.212500</td>\n",
              "    </tr>\n",
              "    <tr>\n",
              "      <th>277</th>\n",
              "      <td>Here we go re 2018</td>\n",
              "      <td>0.000000</td>\n",
              "      <td>0.000000</td>\n",
              "    </tr>\n",
              "  </tbody>\n",
              "</table>\n",
              "<p>278 rows × 3 columns</p>\n",
              "</div>"
            ],
            "text/plain": [
              "                                       Comment_Content  Subjectivity  Polarity\n",
              "0                             said it today, so should      0.000000  0.000000\n",
              "1    If he lists enough specific examples of stuff ...      0.375000  0.000000\n",
              "2    I’m not sure he can say it isn’t working but h...      0.588889 -0.250000\n",
              "3    Here's what Keir Starmer should say (in more p...      0.500000  0.500000\n",
              "4    Something changed recently\\n\\nMany large, hous...      0.669643  0.041071\n",
              "..                                                 ...           ...       ...\n",
              "273  But it's not - Wales' two largest employers by...      0.273333  0.200000\n",
              "274  Free flights and $1,000 vouchers: Australian h...      0.400000  0.200000\n",
              "275  Australia might be locked down for years if th...      0.212963 -0.107407\n",
              "276  Couldn’t agree more. How about they throw thos...      0.308333  0.212500\n",
              "277                                 Here we go re 2018      0.000000  0.000000\n",
              "\n",
              "[278 rows x 3 columns]"
            ]
          },
          "metadata": {},
          "execution_count": 4
        }
      ]
    },
    {
      "cell_type": "code",
      "metadata": {
        "colab": {
          "base_uri": "https://localhost:8080/",
          "height": 424
        },
        "id": "8114c6f2",
        "outputId": "70f4667a-29ee-4828-f4a7-91a8dc678e0d"
      },
      "source": [
        "#Create a functiont to compute the positive, negative, and neutral analysis\n",
        "\n",
        "def getAnalysis(score):\n",
        "    if score < 0: \n",
        "       return 'Negative'\n",
        "    elif score == 0:\n",
        "       return 'Neutral'\n",
        "    else: \n",
        "        return 'Positive'\n",
        "    \n",
        "df['Analysis'] = df['Polarity'].apply(getAnalysis)\n",
        "    \n",
        "df"
      ],
      "id": "8114c6f2",
      "execution_count": null,
      "outputs": [
        {
          "output_type": "execute_result",
          "data": {
            "text/html": [
              "<div>\n",
              "<style scoped>\n",
              "    .dataframe tbody tr th:only-of-type {\n",
              "        vertical-align: middle;\n",
              "    }\n",
              "\n",
              "    .dataframe tbody tr th {\n",
              "        vertical-align: top;\n",
              "    }\n",
              "\n",
              "    .dataframe thead th {\n",
              "        text-align: right;\n",
              "    }\n",
              "</style>\n",
              "<table border=\"1\" class=\"dataframe\">\n",
              "  <thead>\n",
              "    <tr style=\"text-align: right;\">\n",
              "      <th></th>\n",
              "      <th>Comment_Content</th>\n",
              "      <th>Subjectivity</th>\n",
              "      <th>Polarity</th>\n",
              "      <th>Analysis</th>\n",
              "    </tr>\n",
              "  </thead>\n",
              "  <tbody>\n",
              "    <tr>\n",
              "      <th>0</th>\n",
              "      <td>said it today, so should</td>\n",
              "      <td>0.000000</td>\n",
              "      <td>0.000000</td>\n",
              "      <td>Neutral</td>\n",
              "    </tr>\n",
              "    <tr>\n",
              "      <th>1</th>\n",
              "      <td>If he lists enough specific examples of stuff ...</td>\n",
              "      <td>0.375000</td>\n",
              "      <td>0.000000</td>\n",
              "      <td>Neutral</td>\n",
              "    </tr>\n",
              "    <tr>\n",
              "      <th>2</th>\n",
              "      <td>I’m not sure he can say it isn’t working but h...</td>\n",
              "      <td>0.588889</td>\n",
              "      <td>-0.250000</td>\n",
              "      <td>Negative</td>\n",
              "    </tr>\n",
              "    <tr>\n",
              "      <th>3</th>\n",
              "      <td>Here's what Keir Starmer should say (in more p...</td>\n",
              "      <td>0.500000</td>\n",
              "      <td>0.500000</td>\n",
              "      <td>Positive</td>\n",
              "    </tr>\n",
              "    <tr>\n",
              "      <th>4</th>\n",
              "      <td>Something changed recently\\n\\nMany large, hous...</td>\n",
              "      <td>0.669643</td>\n",
              "      <td>0.041071</td>\n",
              "      <td>Positive</td>\n",
              "    </tr>\n",
              "    <tr>\n",
              "      <th>...</th>\n",
              "      <td>...</td>\n",
              "      <td>...</td>\n",
              "      <td>...</td>\n",
              "      <td>...</td>\n",
              "    </tr>\n",
              "    <tr>\n",
              "      <th>273</th>\n",
              "      <td>But it's not - Wales' two largest employers by...</td>\n",
              "      <td>0.273333</td>\n",
              "      <td>0.200000</td>\n",
              "      <td>Positive</td>\n",
              "    </tr>\n",
              "    <tr>\n",
              "      <th>274</th>\n",
              "      <td>Free flights and $1,000 vouchers: Australian h...</td>\n",
              "      <td>0.400000</td>\n",
              "      <td>0.200000</td>\n",
              "      <td>Positive</td>\n",
              "    </tr>\n",
              "    <tr>\n",
              "      <th>275</th>\n",
              "      <td>Australia might be locked down for years if th...</td>\n",
              "      <td>0.212963</td>\n",
              "      <td>-0.107407</td>\n",
              "      <td>Negative</td>\n",
              "    </tr>\n",
              "    <tr>\n",
              "      <th>276</th>\n",
              "      <td>Couldn’t agree more. How about they throw thos...</td>\n",
              "      <td>0.308333</td>\n",
              "      <td>0.212500</td>\n",
              "      <td>Positive</td>\n",
              "    </tr>\n",
              "    <tr>\n",
              "      <th>277</th>\n",
              "      <td>Here we go re 2018</td>\n",
              "      <td>0.000000</td>\n",
              "      <td>0.000000</td>\n",
              "      <td>Neutral</td>\n",
              "    </tr>\n",
              "  </tbody>\n",
              "</table>\n",
              "<p>278 rows × 4 columns</p>\n",
              "</div>"
            ],
            "text/plain": [
              "                                       Comment_Content  ...  Analysis\n",
              "0                             said it today, so should  ...   Neutral\n",
              "1    If he lists enough specific examples of stuff ...  ...   Neutral\n",
              "2    I’m not sure he can say it isn’t working but h...  ...  Negative\n",
              "3    Here's what Keir Starmer should say (in more p...  ...  Positive\n",
              "4    Something changed recently\\n\\nMany large, hous...  ...  Positive\n",
              "..                                                 ...  ...       ...\n",
              "273  But it's not - Wales' two largest employers by...  ...  Positive\n",
              "274  Free flights and $1,000 vouchers: Australian h...  ...  Positive\n",
              "275  Australia might be locked down for years if th...  ...  Negative\n",
              "276  Couldn’t agree more. How about they throw thos...  ...  Positive\n",
              "277                                 Here we go re 2018  ...   Neutral\n",
              "\n",
              "[278 rows x 4 columns]"
            ]
          },
          "metadata": {},
          "execution_count": 5
        }
      ]
    },
    {
      "cell_type": "code",
      "metadata": {
        "colab": {
          "base_uri": "https://localhost:8080/"
        },
        "id": "f5178873",
        "outputId": "5f3a9055-1cc0-4cb1-b69d-c0422d92dd24"
      },
      "source": [
        "# Print comments with positive sentiment \n",
        "\n",
        "j=1\n",
        "sortedDF = df.sort_values(by=['Polarity'])\n",
        "for i in range(0, sortedDF.shape[0]):\n",
        "    if (sortedDF['Analysis'][i] == 'Positive'):\n",
        "        print(str(j) +  ') '+sortedDF['Comment_Content'][i])\n",
        "        print()\n",
        "        j = j+1\n",
        "\n"
      ],
      "id": "f5178873",
      "execution_count": null,
      "outputs": [
        {
          "output_type": "stream",
          "name": "stdout",
          "text": [
            "1) Here's what Keir Starmer should say (in more polished form):\n",
            "\n",
            "The Tories had 9 months to get Brexit done. Instead we have food shortages, crops rotting in fields, the highest energy prices in Europe, gaps on shelves and the hospitality sector on its knees. Brexit isn't working.\n",
            "\n",
            "2) Something changed recently\n",
            "\n",
            "Many large, household name firms are now willing to explicitly name Brexit as the cause of their problems - something they've been reluctant to do until now because it antagonises a portion of their customer base.\n",
            "\n",
            "Labour could amplify their voices.\n",
            "\n",
            "3) If your concern is Labour's past support for the deal Boris Johnson cooked up, don't be so worried!\n",
            "\n",
            "The first party to run away from a clearly ticking hand grenade will fare better than the one still clenching it, even if both were seen to be holding it in the first place.\n",
            "\n",
            "4) Interested as to why he can’t say it’s not working?\n",
            "\n",
            "5) Barely …\n",
            "\n",
            "6) Because Labour voted alongside the Tories and then later for Johnson's 'oven ready deal' without scrutinizing it.\n",
            "\n",
            "7) Kier should be openly protecting  This is important.\n",
            "\n",
            "8) I wish you the best but he needs to get his electorate back by helping them understand why they were lied to and no they won't be levelled up. Too many people in Labour heartlands I doubt are ready to come back if that makes sense.\n",
            "\n",
            "9) But he won't will he - there will be more we have to embrace Brexit now it's fait accompli.  That's how to appeal to original 48% and the subsequently disillusioned - NOT!\n",
            "\n",
            "10) Pissing off the French, the nearest country in the EU by illegal immigration policy + USUKA nuke treaty doesn't sound like the wisest of decisions, when France are in the best position to help in the crisis the UK regime created.\n",
            "\n",
            "11) Boris' Brexit isn't working.\n",
            "\n",
            "Pin the blame where it's deserved. I'm a Remainer through and through but we can't restart Brexit vs Remain while Boris is PM. We can, however, use literal real world examples of what's happening right now to advocate for the SM, CU, Erasmus, etc.\n",
            "\n",
            "12) Needs to also completely disprove that it's nothing to do with the pingdemic/Covid. Still too many people believing that. Also still hearing  people say Boris is doing his best. Needs to ram home that his best is just not good enough.\n",
            "\n",
            "13) May be true but can't see how pointing it out is going to change things. UK has left EU. That's it. UK's future now rests on how it manages new non-EU status. No good knocking on door for re-entry. If still think this imagine what French reponse would be? Have to make no EU work.\n",
            "\n",
            "14) There wouldn't normally be two shelves stacked like that with identical products. They're putting out all their stock and spreading it out to hide the gaps.\n",
            "\n",
            "15) Do we need to crowdfund a better focus group company for Keith to use?\n",
            "So he can respond a bit quicker?\n",
            "\n",
            "16) if I'm right, wasn't this 9 months after the end of a year long transition period.\n",
            "\n",
            "17) Obviously a Covid Pandemic doesn't count in any of this and European nations haven't had any energy price increases.. must be utopia in Europe lol. Seriously get real\n",
            "\n",
            "18) Agree. It's not hard to state the obvious.\n",
            "\n",
            "19) Except he won't because every politician is more interested in appeasing flag shaggers with zero thought about representing anyone else.\n",
            "\n",
            "20) However you cannot escape the fact that the electorate, our great British electorate, voted for this.\n",
            "\n",
            "21) 9 MONTHS?\n",
            "More like 5 YEARS!\n",
            "\n",
            "22) They had I believe 5 years to get good deals in place and labour could have also contributed but it was left to the very last minute.\n",
            "\n",
            "23) Let's put KeirStarmer in your tweet, then he is sure to see it.\n",
            "\n",
            "24) Instead he will say the government are doing a great job under difficult circumstance.\n",
            "\n",
            "25) Doesn't matter. The first party to run away from a clearly ticking hand grenade will fare better than the one still clenching it, even if both were holding it in the first place.\n",
            "\n",
            "26) Don't you just love sunlit uplands\n",
            "\n",
            "27) But he whipped his own party to accept the 'oven ready deal.' The tories would not be slow to exploit that. Labour could have abstained, leaving them room to criticise now.\n",
            "\n",
            "28) But don't forget, Brexit voters knew exactly what they were voting for. They were very clear about that.\n",
            "\n",
            "Surely the only conclusion is that all these problems are exactly what they wanted to happen. Now they just need to explain why.\n",
            "\n",
            "29) Even a worse deal than the old one would leave us better off than Brexit.\n",
            "\n",
            "30) The Brexit deal isn't working would be better so he doesn't gift the Tories ammunition to attack him with but still underlines their incompetence.\n",
            "\n",
            "31) We had a sweet deal with eu we left not going back because we wont get that deal again we're just going to have make it work all of us whether we like it or not\n",
            "\n",
            "32) 9 months.try 5 years, with 2years of the ”oven ready“ version going rancid.\n",
            "\n",
            "33) Ah but it is working for the venture capitalists who bet against the U.K. They are making money hand over fist. They are friends with many of the people now in Government!\n",
            "\n",
            "34) this seems reasonable. Why not try it? It might boost your poll ratings to tell the truth about Brexit.\n",
            "\n",
            "35) No tories, ain't working, come on England your better than this, vote labour\n",
            "\n",
            "36) Which day/month/year is Independent UK expected to be OK again?\n",
            "\n",
            "37) I'd expected Starmer to give us a more decisive opposition, after Corbyn's fence sitting and fear of doing interviews, but instead he seems to have forgotten that the opposition's job is to oppose and to highlight the ruling party's errors.\n",
            "\n",
            "38) Move on, how?\n",
            "\n",
            "Brexit is causing more and more damage. Unless you're living under a rock, the headlines are full of it.\n",
            "\n",
            "How do we move on from something that is making our situation ever worse, and which will never stop?\n",
            "\n",
            "39) But blue passports and happy fish!\n",
            "\n",
            "40) Welcome to the end times.\n",
            "\n",
            "41) Nope we still love em\n",
            "\n",
            "42) Yeah but the super rich can avoid higher taxes so job done!\n",
            "\n",
            "43) You have the amazing blue British passport. Be grateful for that\n",
            "\n",
            "44) I hope I'm watching the TV when they open Johnson's Nappy. the 1922 com't is becoming restless  always a good sign\n",
            "\n",
            "45) but it’ll all be okay because we’ve taken back control..BrexitReality ToryBrexitDisaster ToryIncompetence\n",
            "\n",
            "46) I don't know if it's just wishful thinking but I really do believe the fu*kers are starting to implode.\n",
            "Fingers crossed\n",
            "\n",
            "47) It’s like trying to teach a 2 year old quantum physics. Whatever you shout at them they’re just thinking, “cake/ice cream/me play.” Gov don’t care what WE think.\n",
            "\n",
            "48) Sadly, no. They even have enthusiastic supporters.\n",
            "\n",
            "49) The left is attacking itself. Absolute gift for this shower.\n",
            "\n",
            "50) Gutted for you, hold in there, 2 weeks and your trading inside, which may get you somewhere near break even.\n",
            "\n",
            "51) Lovely Son has been in lockdown with his Dog for fourteen months, I think when he reopens the Dog won’t  let anyone in\n",
            "\n",
            "52) Yep, been busy doing all the PPE deals for his mates!\n",
            "\n",
            "53) It's simply so wrong. We now need everyone to be able to be fully properly openforall That means no national scheme of Test to Enter anywhere with Covid Certifications of any kind.  Time to get our Normal back.\n",
            "\n",
            "54) Too far away and govt have done too many U turns. Don't believe a word they say. Totally corrupt and has the judiciary in its pockets too obviously. \n",
            "Old normal will only be back if we fight for it.\n",
            "\n",
            "55) Old normal starts in June.\n",
            "\n",
            "56) Lives are more important well done Boris , Matt\n",
            "\n",
            "57) You might also find joining Accountable Commons worthwhile:\n",
            "\n",
            "58) There needs to be an insistence  from government that quality apprentice schemes are adopted for company’s over a certain size, allowing school levers to study for  ridiculous degrees is a huge waist off time and money for all concerned. Uni is not for everyone.\n",
            "\n",
            "59) PM tells haulage industry to stop relying on cheap foreign drivers.\n",
            "Shouldn’t he be saying stop relying on cheap foreign labour to ALL UK industries, NHS, care workers, hospitality sector, farming etc. etc.?\n",
            "\n",
            "60) Problem is also the cheap foreign workers are also very very good and skiiled and put in a full shift\n",
            "\n",
            "61) Higher wages should be a natural consequence of Brexit. Businesses however need to maximise efficiency elsewhere to remain competitive, especially in a global market.\n",
            "\n",
            "62) 1/2 Given advances in mechanisation, robotics, computerisation etc. there will be no work for many sooner rather than later. Politicians historically have focussed on finances rather than the well-being of the people they serve. People need income to live a reasonable existence,\n",
            "\n",
            "63) Foreign labour is unserstainable long term and everyone knew that at the time.\n",
            "Best to train our own people and make wages fair, companies will save money in the long run.\n",
            "\n",
            "64) Absolutely spot on, an over reliance on the dispicable exploitation of cheap foreign labour has led to this, the consequent exploitation of our own labour force and erosion of working conditions led to brexit. I cant actually believe how so many people were or are ok with that\n",
            "\n",
            "65) OK. Let's see how they get on when people give up.\n",
            "\n",
            "66) Good point, well made  Everyone’s tax will have to go up if the whole of the UK gave up smoking. They collect £9.96 Billion in tobacco tax last year. Add to that the savings on pensions and healthcare due to earlier than average  We smokers are a boon to the economy\n",
            "\n",
            "67) Not to be rude or disrespectful but there is a *clear* difference and distinction between national government and local council authorities\n",
            "\n",
            "And for the record, I believe those councils are overwhelmingly run by Labour, in case anyone wishes to engage in political badgering\n",
            "\n",
            "68) At £9.60 a pack and all your doing is burning money and effecting your own health  I think is silly\n",
            "\n",
            "69) Good luck with that what pub or restaurant in it's right mind it's going to stop people smoking or grassing them up  after a year of no income.\n",
            "\n",
            "70) INSIGHT: 12 out of 14 UK sectors reported output growth in October, led by the hospitality sector for the second month in a row.\n",
            "\n",
            "More on the Lloyds Bank Recovery Tracker: \n",
            "\n",
            "\n",
            "UKRecoveryTracker UKBusiness\n",
            "\n",
            "71) Jeavon Lolay, Head of Economics and Market Insight, reflects on the findings\n",
            "\n",
            "More on the Lloyds Bank Recovery Tracker:\n",
            "\n",
            "72) Don't take health advice from a hospitality professional. The best way to open is AFTER maximum suppression\n",
            "\n",
            "73) I dont think its likely to be the best loved one that will suffer closure. Silly statement.\n",
            "\n",
            "74) Excellent and frank session. hopeful that  can assist with paving the way forward.hospitalityindustry also interviewing is just another talent of this fine lady\n",
            "\n",
            "75) It really is time for  Minister for Hospitality ! Really hope  starts to recognise the financial issues facing us all in Hospitality/HighStreet - We need much more time for repayments & elimination of BizRates & system changed / made FAIR by April 2022\n",
            "\n",
            "76) How would you know Scully?Good to see Paul Scully(business minister) on top of his brief. CarCrash\n",
            "\n",
            "LBC\n",
            "\n",
            "77) I hope she mentioned how many companies in hospitality are struggling because of Brexit and the removal of FoM.\n",
            "\n",
            "78) Minister for Small Business  and UKHospitality Chief Executive  discuss business support, the easing of COVID19 restrictions and what the future holds for the UK's hospitality sector in the latest  podcast.\n",
            " Listen here:\n",
            "\n",
            "79) I sure they will not agree with Paul\n",
            "\n",
            "80) The issue affecting UK second home owners in EU (loss of residency after 6m absence) is same reason why hospitality sector has no workers after covid… because people left and have lost their rights to live/work in the UK now. WA should have included lifetime right of return.\n",
            "\n",
            "81) Lmao hospitality sector in UK can’t deal with the fact that they can’t source cheap Europeans anymore. Time to pay decent salaries then.\n",
            "\n",
            "Yay the jobs can’t be stolen!\n",
            "\n",
            "82) Brilliant\n",
            "\n",
            "83) I called up a local cinema about Bond tickets and they said, 'Our roof has partly collapsed and our staff are missing but if we repair it in time and find staff, we are sold out completely'. \n",
            "Seems like an apt summary of the hospitality and entertainment sector in the UK today.\n",
            "\n",
            "84) Increasingly clear staffing in UK hospitality sector is facing double whammy of Covid effects and Brexit effects.\n",
            "\n",
            "85) The Brexit effect is likely to be enduring because it's a structural shift. The covid effect probably more transitory. The former effect was entirely predictable and may significantly impact the Care and Health sectors too. Tim Martin, the Wetherspoons Chair, is looking foolish.\n",
            "\n",
            "86) The result of which will be higher wages for young UK workers without degrees & higher prices for the rich who have got much richer.\n",
            "\n",
            "Annoying for us perhaps, but surely v good for .\n",
            "\n",
            "87) Steady on. Are you insinuating that brexit had actual downsides, not only considerable upsides?\n",
            "\n",
            "88) Milkshakes are off the menu at McDonald's in the UK, as supply chain issues affecting the hospitality sector leave the fast-food chain running short of milk. Read more\n",
            "\n",
            "89) Somehow I doubt it'll have much of an effect on UK unemployment statistics.\n",
            "\n",
            "90) No but it's another reduction in opportunities for young people along with Erasmus.\n",
            "\n",
            "91) Yup, because the opportunity for this generation to pick spuds in Lincolnshire is so inviting. That aside, it's not just chalets it's a complete infrasturcture. Daughter has been in industry 12 years managing resorts. Positions now taken by EU passport holders.\n",
            "\n",
            "92) Hospitality industry in the UK\n",
            "In 2019 the hospitality sector contributed £59.3 billion in Gross Value Added to the UK economy, around 3.0% of total UK economic output. In the three months to September 2020, there were 2.38 million jobs in the hospitality sector in the UK.\n",
            "\n",
            "93) There isn't a shortage of labour in the hospitality sector in UK. \n",
            "\n",
            "There ie a shortage of employers in the hospitality sector in UK prepared to pay what it will now take to attract, train & retain the\n",
            "labour needed.\n",
            "\n",
            "Employers have to recognise a new reality & treat staff well.\n",
            "\n",
            "94) Most industries are desperate for skilled, and even unskilled workers. They just aren’t reporting it. Visas to come into the U.K. is one thing, but visas to go into Europe and come home another!\n",
            "\n",
            "95) Have you heard yourself?\n",
            "Control over immigration.\n",
            "I’m sorry there is thing called dialogue.\n",
            "But your myopic inability to see outside of your own opinions says a lot about you. Pls check yourself Brexit minister Lord Frost (@DavidGHFrost): Visa-free touring for artists 'deprives us of control over immigration' https://musicweek.com/live/read/brexit-minister-lord-frost-visa-free-touring-for-artists-deprives-us-of-control-over-immigration/083611…\n",
            "\n",
            "96) Also your use of of those GDP stats is wildly incorrect.\n",
            "\n",
            "97) EUC: Wales is a sparsely populated region of the UK. In 2018, the population was about 3.1m (Eurostat, 2019). With a GDP per capita (PPS) of €22,900 in 2019, and accounting for only 3.4% of the UK's total GDP (about €79.8b), it also underperforms economically (Eurostat, 2019).\n",
            "\n",
            "98) Wales does not have a higher GDP/capita than Spain, Italy & NZ. c. £22k, £25k £31k respectively. Check that source again. Wales' GDP/capita is more like c. £20k .\n",
            "\n",
            "99) Sunday morning message: Independence from Westminster is normal.\n",
            "\n",
            "100) Not really, I also didn't claim lower (read what I said) Vs Wales 2018 GDP  / head of £23kish.   The fine details are not that relevant  the essential point is that the Welsh economy (even based on flawed use of GDP) is comparable with many other wealthy nations\n",
            "\n",
            "101) UK PS or Welsh PS?  The point I was making in my tax blog  is that the climate emergency will require major changes in all our economies.in that context there are no insurmountable barriers to welsh independence\n",
            "\n",
            "102) Yes a figure showing all higher GDP/captia than Wales with the exception of Slovenia using both 2018 and current FX.\n",
            "\n",
            "103) But it's not - Wales' two largest employers by a countrymile are the hospitality sector & UK public sector, with an aging, low skilled workforce. It is nothing like a top 20 worldwide economy. Next you'll be taking the YesCymru line of lets sell water to England\n",
            "\n",
            "104) Free flights and $1,000 vouchers: Australian hospitality sector lures UK workers\n",
            "\n",
            "105) Couldn’t agree more. How about they throw those incentives at local young people first who haven’t had any work since June.\n",
            "\n"
          ]
        }
      ]
    },
    {
      "cell_type": "code",
      "metadata": {
        "colab": {
          "base_uri": "https://localhost:8080/"
        },
        "id": "a7be84fc",
        "outputId": "6904ec5c-6338-471a-cf69-7fa4aa2c57c1"
      },
      "source": [
        "# Print comments with negative sentiment \n",
        "\n",
        "j=1\n",
        "sortedDF = df.sort_values(by=['Polarity'])\n",
        "for i in range(0, sortedDF.shape[0]):\n",
        "    if (sortedDF['Analysis'][i] == 'Negative'):\n",
        "        print(str(j) +  ') '+sortedDF['Comment_Content'][i])\n",
        "        print()\n",
        "        j = j+1"
      ],
      "id": "a7be84fc",
      "execution_count": null,
      "outputs": [
        {
          "output_type": "stream",
          "name": "stdout",
          "text": [
            "1) I’m not sure he can say it isn’t working but he can definitely attack the tories incompetent way of doing it and their poor deal making and fact they’ve got no clue whatsoever\n",
            "\n",
            "2) I'm hoping this will form part of his speech to conference. If brexit isn't mentioned we're in trouble.\n",
            "\n",
            "3) I get what you're saying, but I think brexit voters need to come to their own conclusion, because there is no convincing them with words.  And sadly it needs to be a lot worse before it reaches that point.\n",
            "\n",
            "4) All of the above is due to companies under paying staff.\n",
            "\n",
            "5) Your judging it after less than a year + Covid even you can’t be that negative.\n",
            "\n",
            "6) I don’t support Boris or the Tory’s and didn’t vote for Brexit. But to imply the energy price increases are to do with Brexit is both wrong and stupid. That’s not the way you get people to support re-joining or indeed to vote Labour.\n",
            "\n",
            "7) Totally agree, dreadful scenes today at the local supermarket.\n",
            "\n",
            "8) Your wrong\n",
            "\n",
            "9) Come on Keir. Do a Raducanu. Land a few aces.\n",
            "\n",
            "10) Did you vote for Labour in 2019 when they were offering a referendum with remain on the ballot - if you were you were one of a minority - and if not perhaps you should because now Is hardly a surprise\n",
            "\n",
            "11) Unfortunately Labour also voted for this failure deal. Probably without reading it like all the conservative. Time for the Liberals\n",
            "\n",
            "12) Apparently it's impossible to withdraw from the EU , I wonder why a country is able to join but not to withdraw\n",
            "\n",
            "13) Labour supported the Tories to 'Get Brexit Done'.\n",
            "\n",
            "I feel sorry for those in England impacted by the Red/Blue Tories as they're both the same cheeks of the same arse.\n",
            "\n",
            "Come to Scotland and help us deliver Independence and join us on the journey away from the Westminster disaster.\n",
            "\n",
            "14) ‘Brexit isn’t working’ would suggest that (1) it’s possible to turn back the clock & (2) Labour & other parties are still rehashing the 2019 arguments. \n",
            "The main problem is this govt’s form of Brexit, the TCA, taking UK out of single market initiated by Mrs T. That’s reversible.\n",
            "\n",
            "15) I think that would be a mistake, wouldn't it be better for Starmer not to use the word brexit at all but concentrate on Johnson's oven ready deal and the total failure of that deal ?\n",
            "Challenge Johnson as to why he has failed to implement any infrastructure to support it.\n",
            "\n",
            "16) We did withdraw Pete \n",
            "\n",
            "What you mean is that it's impossible to withdraw and keep all the benefits. Yes we did try to tell you lot that but alas you kept shouting fish and sovereignty.\n",
            "\n",
            "17) With all due respect, the Tories had FOUR YEARS to negotiate a Brexit deal, but blustered and postured and showed a total lack of negotiating skill / historical understanding / ability to forecast. So here we are\n",
            "\n",
            "18) Yes - that is all due to Brexit. \n",
            "\n",
            "Remainers cannot see anything beyond their dogma.\n",
            "\n",
            "19) Instead he’ll probably say, “ouch what’s that sharp pain in my buttocks?” Oh yes the splinters in my arse”\n",
            "\n",
            "20) Couldn’t agree more. Stop fighting (or being too scared to fight) over whether we should have done brexit and start explaining why this brexit has been the worst of all brexits.\n",
            "\n",
            "21) Problem is Starmer is shit scared of the different factions in his party ! The Brexit support wing carries way to much power for its minority standing ! An impossible task to all look in the same direction ! Starmer hangs on a thread hence no opposition\n",
            "\n",
            "22) And then what? I hated Brexit too but you will never get elected on a negative message.\n",
            "\n",
            "23) It’s not a vote winner unfortunately.\n",
            "\n",
            "24) `Instead`? Brexit was done, You`re still in denial. \n",
            "It would be microseconds before before it was pointed out to him this was happening elsewhere as well.\n",
            "Do you think he`d start fracking to get energy prices down?\n",
            "\n",
            "25) Another bot. So predictable. Blocked.\n",
            "\n",
            "26) 9 months is the amount of time the effects of Brexit have been felt. Before that, we were in the transition period, keeping us in the EU's trade deals and other administrative structures.\n",
            "\n",
            "27) I think he is still worried about the lost red wall vote implying that any anti Brexit comments will alienate this potential support even further. Recall his second referendum policy that backfired badly so he has been burnt once by Brexit.\n",
            "\n",
            "28) Rejected Labour’s Caution. 18 months of ‘Cruising’ round  the world, as though, we can always revert to Piracy…\n",
            "\n",
            "29) He won't, because he won't be voted in. At least, that is what his team is telling him ie to go after 'soft Tory voters'. This is going to take a lot of pain and Brexiters turning on the Tories, which is not going to happen overnight. If ever.\n",
            "\n",
            "30) Food price rises.\n",
            "\n",
            "Fishermen: fucked.\n",
            "\n",
            "Services£110Bn down\n",
            "\n",
            "Farmers: fucked.\n",
            "\n",
            "Now there’s nobody to work in the hospitality sector.\n",
            "\n",
            "Are we holding these shitbags to account for ruining the UK yet?\n",
            "\n",
            "31) And as of today, looks like we’re all forbidden from leaving too. Held prisoners on this little island.\n",
            "\n",
            "32) Just as they like it, I’m afraid.\n",
            "Divide and rule. Alienate everyone and you can pick off each sector to do you bidding.\n",
            "\n",
            "33) No, the Emperors clothes still have some life in them, although Johnson's jockstrap is frayed and Hancocks PPE, like him, is well past the expiry date.\n",
            "\n",
            "34) Time to hate the English voters who live outside of large cities. That's where Brexit/UKIP/Tory voters live.\n",
            "\n",
            "35) Retailers fucked but they were already.\n",
            "\n",
            "But now they really really really fucked.\n",
            "\n",
            "36) Apparently not\n",
            "\n",
            "37) Apparently not.\n",
            "\n",
            "38) Going to get even worse to recruit after 30th June when cut off for settlement applications finishes and those that haven’t applied will go home en masse.\n",
            "\n",
            "39) Got 4 coaches of Brexit voting immigrant hating anti mask no social distancing arriving at hotel I’m a chef at next Monday. We had 44 last week and the rudeness and ignoring of rules was shocking and they asking why we had no staff.\n",
            "\n",
            "40) At the next election, I suspect that the people of England will give them an increased majority.\n",
            "\n",
            "Only when white, middle aged, middle class English people are suffering will the Tories be sent packing.\n",
            "\n",
            "41) Big shout out to   for their complete lack of understanding of business &there utter contempt for the hospitality sector. We have shut the pub, &are very limited with other sites. We are 100% dependent on the UK weather because we can only trade outside\n",
            "\n",
            "42) This entire outdoor eating and drinking idea  is ridiculous.\n",
            "\n",
            "43) Scotland the same just drop a few degrees!\n",
            "\n",
            "44) It's total bollox. Can go in a supermarket No problem My children are still in bubbles in classes at school, yet can mix freely in after school club and sports clubs. Roads are busy people are out and about. Yet can't go in a pub Pathetic.\n",
            "\n",
            "45) So why are we letting this happen if we all just said fuck it just open as like u just said about snooker and garden centres let’s just all rebel I’ve never been a follower anyway\n",
            "\n",
            "46) Really is ridiculous that I can't go inside a pub or cinema yet tons of people can sit in a theatre and watch snooker!!!!\n",
            "\n",
            "47) I’m so sorry you are going through this\n",
            "\n",
            "48) Ridiculous\n",
            "\n",
            "49) just open, if you do they may close you down, if you don't they have closed you forever\n",
            "\n",
            "50) It’s madness the whole thing is stupid now. The government should just open things up to give the pub and restaurants a chance.\n",
            "\n",
            "51) Well done for being vocal & standing up  ! This is ridiculous & totally unfair. Even though High Court challenge lapsed now, people know this. We need to be fully properly openforall now no ifs no buts x\n",
            "\n",
            "52) Industries were also wound down and communities decimated in favour of importing from like industries elsewhere in the EU, Paul, and factories and SMEs were encouraged to relocate to other mainland EU countries that had cheaper labour forces.\n",
            "\n",
            "53) Absolutely! Being part of the EU made a lot of industries lazy and stopped training and developing young people.\n",
            "\n",
            "Last 20 years it’s been all about going to uni to get a pointless degree, instead of learning a trade or profession from the ground up!\n",
            "\n",
            "54) Other than exploitation, what's the answer then, James?\n",
            "\n",
            "55) At least its a start and puts down a clear marker\n",
            "\n",
            "56) Let's hope his message spreads to other sectors, Antony.\n",
            "\n",
            "57) It’s all smoke and mirrors. There was no problem with distribution a few weeks ago. The govt are talking bollox.\n",
            "\n",
            "58) Goes to prove how the country has relied on foreign labour for too long.  We now need to move on\n",
            "\n",
            "59) it's implied to other industries.. they were listening\n",
            "\n",
            "60) Not Legal.. Simple\n",
            "\n",
            "61) It should be banned. I refuse to go to any establishment where people are smoking outside. People are trying to eat, and it is creating a disgusting, dirty environment.\n",
            "\n",
            "62) The sector's losing £3bn this month every day of closure means that you're moving small businesses closer to the edge.'\n",
            "\n",
            "Kate Nicholls, chief executive of UK Hospitality, says Britain must unlock on July 19th or risk businesses closing forever.\n",
            "\n",
            "Watch GB News on Sky 515.\n",
            "\n",
            "63) I hope the new health Secretary steps down from JP Morgan you can’t serve 2 paymasters\n",
            "\n",
            "64) Some lives might close forever too. This is the choice policy makers have and it's not easy.\n",
            "\n",
            "65) Restaurants are already struggling to stay open with the amount of staff off sick or isolating because of covid.  The hospitality sector needs financial support and leadership from HMG not ‘setting free’\n",
            "\n",
            "66) There is a fundamental problem to overcome ? Govt loves and cares about Big Biz’s & sadly doesn’t really have an interest in Small Biz’s ? If Govt was it would not expect our Hospitality Biz’s to subsidise Big Biz’s through extortionate UNFAIR ‘property based’ BizRates system ?\n",
            "\n",
            "67) Government U-turn ahead covid restrictions will not be ending on 21st June? Why does our Gov get it wrong EVERY time??? tick, tock, tick, tock, the clock is running down and they have no clue!!!\n",
            "\n",
            "   dictators? liars? frauds? All three?\n",
            "\n",
            "68) Brexit by a thousand cuts: lost jobs, crushed dreams, separated families, more expensive goods, tedious paperwork, supply shortages, staff shortages, fewer uni exchanges, no ski chalets, less music tours, poorer medical treatment, no retirement in the sunon and on and on.\n",
            "\n",
            "69) No ski chalets. \n",
            "\n",
            "Seriously?\n",
            "\n",
            "70) Choices David, choices. She is now managing a hotel in Nottingham because she is currently  unable to work outside the UK. I do realise that to Little Englanders removing the rights of the younger generation is OK.\n",
            "\n",
            "71) I was against Brexit but to imply one of the outcomes has been a decline in seasonal jobs for British youngsters, because chalet work has dried up, overlooks the tens of thousands of seasonal jobs created in the UK agricultural and hospitality sectors.\n",
            "\n",
            "72) Impossible\n",
            "\n",
            "73) Err! Yes I have heard the Home Office fear that , say, a Polish band might travel to gig in Camden & then vanish to take UK jobs in, say, UK hospitality! \n",
            "\n",
            "Hm! But isn’t UK Hospitality Sector desperate for skilled EU chefs & waiters ? \n",
            "\n",
            "Wld they be serving up a ‘Dog’s Brexit’?\n",
            "\n",
            "74) Some musings on Welsh independence, Britain, tax and other matters.\n",
            "\n",
            "75) Australia might be locked down for years if the hospital system collapses under the strain of Gladys incompetence. Unemployment figures (actual ones) are soaring, this seems odd.\n",
            "\n"
          ]
        }
      ]
    },
    {
      "cell_type": "code",
      "metadata": {
        "colab": {
          "base_uri": "https://localhost:8080/"
        },
        "id": "4cd5ac27",
        "outputId": "cd373fde-7582-4915-eb87-77cbc3ac0306"
      },
      "source": [
        "# Print comments with neutral sentiment \n",
        "\n",
        "j=1\n",
        "sortedDF = df.sort_values(by=['Polarity'])\n",
        "for i in range(0, sortedDF.shape[0]):\n",
        "    if (sortedDF['Analysis'][i] == 'Neutral'):\n",
        "        print(str(j) +  ') '+sortedDF['Comment_Content'][i])\n",
        "        print()\n",
        "        j = j+1"
      ],
      "id": "4cd5ac27",
      "execution_count": null,
      "outputs": [
        {
          "output_type": "stream",
          "name": "stdout",
          "text": [
            "1) said it today, so should\n",
            "\n",
            "2) If he lists enough specific examples of stuff that Brexit broke, it should be obvious to wavering voters and to those not yet irredeemably lost to the Tories that he's adjusting Labour's position on Brexit BECAUSE it has been proven not to work.\n",
            "\n",
            "Pragmatism not betrayal.\n",
            "\n",
            "3) He whipped Labour to back the deal. Why would he mention it?\n",
            "\n",
            "4) Why isn’t he?\n",
            "\n",
            "JohnsonOut\n",
            "\n",
            "5) Fat chance. He won't mention brexit.\n",
            "\n",
            "6) But lacks the courage\n",
            "\n",
            "7) Please read this\n",
            "\n",
            "8) 9 months? 5 years!\n",
            "\n",
            "9) How would he explain similar issues throughout the EU and US?\n",
            "\n",
            "10) Not possible for him to say given he voted for the deal.\n",
            "\n",
            "11) Conservatives +20\n",
            "\n",
            "12) Seems obvious that if he fights to rejoin on these grounds he could unite Labour. Come on Keir, bite the bullet!\n",
            "\n",
            "13) A customer in Sainsbury's on Friday was saying this, except he pointed out they had 4 years to prepare.\n",
            "\n",
            "14) What similar issues?\n",
            "\n",
            "15) The problem is Johnson will then say what would you (KS) do that will work to which we all know there is no answer as no Brexit will work so KS would have to lie that's Johnsons shtick not Starmers.\n",
            "\n",
            "16) There are alternatives. We could, for example, apply to join Efta.\n",
            "\n",
            "17) you listening or what?\n",
            "\n",
            "18) Absofuckinglutey!\n",
            "\n",
            "19) I wish\n",
            "\n",
            "20) Problem is, he voted for it.\n",
            "\n",
            "21) Wishful thinking\n",
            "\n",
            "22) Nailed It!\n",
            "\n",
            "23) Come on Labour be a opposition JohnsonOut\n",
            "\n",
            "24) There is no mileage in trying to refight the referendum. It’s going to be a marathon not a sprint (pardon the cliche).\n",
            "\n",
            "25) Why is he not saying it?\n",
            "\n",
            "26) Imagine the headlines if Labour had presided over this!\n",
            "\n",
            "27) Suggest 'the Tory model of Brexit isn't working, because it is a Canada-type relationship unsuitable for the UK as a European country'.\n",
            "\n",
            "28) Spot on.  You'd think it was doable.\n",
            "\n",
            "29) I know.\n",
            "\n",
            "30) I only wish he would.\n",
            "\n",
            "31) He can’t say that because he led Labour MPs to vote for the agreement. I will never forgive him for that.\n",
            "\n",
            "32) I bet he won't.\n",
            "\n",
            "33) Personally I agree - but Johnson will simply say “well, Labour voted for it” and talk about “Captain Hindsight”. Both of these seem to stick with enough voters to negate Starmer at present.\n",
            "\n",
            "34) I don’t think that needs polishing, just needs saying- again and again\n",
            "\n",
            "35) He won't though, he voted for it. Does the opposition actually oppose anything?\n",
            "\n",
            "36) The Tories had 5 years not 9 months but they still came out at the end of it with nothing.\n",
            "\n",
            "37) Starmer has accepted UK has left EU, move on!\n",
            "\n",
            "38) YES\n",
            "\n",
            "39) Aye\n",
            "\n",
            "40) Its the EUs fault all this red tape. \n",
            "\n",
            "BrexitReality\n",
            "\n",
            "41) That's any number between 1 and 50.\n",
            "\n",
            "42) But up to 50 ketchup jobs tho!\n",
            "ToryBrexitDisaster\n",
            "\n",
            "43) Also petrol price rises.\n",
            "\n",
            "44) Nope!\n",
            "\n",
            "45) Nope!!\n",
            "\n",
            "46) Who's We??I f**king don't\n",
            "\n",
            "47) Only after a lost war.\n",
            "\n",
            "48) They knew but \n",
            "\n",
            "49) Inflation!\n",
            "\n",
            "50) Brexit means Brexit\n",
            "\n",
            "51) But the ketchup ?\n",
            "\n",
            "52) No\n",
            "Look at the polls\n",
            "\n",
            "53) Yes but we hold all the cards remember?\n",
            "\n",
            "54) No.. compliance is the operative word!\n",
            "\n",
            "55) No opposition either. What a constellation of disasters\n",
            "\n",
            "56) Keep and on  from tomorrow\n",
            "\n",
            "57) As if Hancock cares. He is minted for life now.\n",
            "\n",
            "58) Sacha and I are talking at a conference this Wednesday\n",
            "\n",
            "59) You should link up with your local anti-lockdown group and invite them into your pub. You get the custom and they get a venue to discuss activism. The Telegram app is your friend in this respect.\n",
            "\n",
            "60) Everyone lost out this weekend because of indoor hospitality being shut\n",
            "\n",
            "61) Get some brollies out like in brum\n",
            "\n",
            "62) A lifetime ban for them all, from all pubs and restaurants in the land !\n",
            "\n",
            "63) BorisOut SackHancock BurnSAGE\n",
            "\n",
            "64) But KFC,McDonald's,burger King can have people sitting inside on service stations all across the country\n",
            "\n",
            "65) . So, tell me what you know about epidemiology.\n",
            "\n",
            "66) I’m wondering if they are purposely reducing the workforce?\n",
            "\n",
            "67) Well if they think that the men arriving on our south coast in dinghies will have any intention of working, then they are in for a shock, only here for the freebies and of course to help make the UK a Muslim state (my opinion)\n",
            "\n",
            "68) ..but it’s all a smoke screen, something bigger coming.\n",
            "\n",
            "69) Yes, otherwise the problem will shift from sector to sector.\n",
            "\n",
            "70) Yes he should.\n",
            "\n",
            "71) Yes.\n",
            "\n",
            "72) Yes\n",
            "\n",
            "73) One in three UK music jobs wiped out by Pandemic restrictions\n",
            "69 THOUSAND jobs LOST\n",
            "Music industry economy FELL 46% to £3.1 billion from £5.8 billion 2019\n",
            "Exports fell 23% to £2.3 billion\n",
            "THISis what happens when you SHUT the Hospitality sector\n",
            "\n",
            "74) Five UK councils have now banned smoking outside pubs and restaurants.\n",
            "\n",
            "Anyone would think the Govt doesn't like the hospitality sector.\n",
            "\n",
            "75) I'd rather be taken over by China at this point.\n",
            "\n",
            "76) So where they supposed to smoke if they can't smoke outdoors\n",
            "\n",
            "77) Rising energy prices and salary pressures drove record input cost inflation, with all 14 sectors raising prices charged.\n",
            "\n",
            "78) Tourism and recreation was the fastest growing UK sector in October.\n",
            "\n",
            "79) Hello, your sound and lighting is as poor as ever.\n",
            "\n",
            "80) handcock should be in kail\n",
            "\n",
            "81) when the pandemic/lockdown is passed those businesses will exist again but just have different owners\n",
            "\n",
            "82) When C - 19 infections get to 100k per day no one is going to want to go to restaurants\n",
            "\n",
            "83) That’s not taking into account the pressures hospitality is suffering already because of the skills drain from Brexit\n",
            "\n",
            "84) Why is this still an issue for marginalised Excluded groups of Tax Payers. Its time to WeStandAsOne 30th June London\n",
            "\n",
            "85) Why don't they call Bond to fix it?\n",
            "\n",
            "86) Who could possibly have thought Brexit would cause job shortages in the hospitality, care homes, agricultural sectors, etc?other than over 16 million of us.\n",
            "\n",
            "87) That's an assumption. Let's see\n",
            "\n",
            "88) Nobody is but who wouldn't rather have a season in the Swiss alps than Wetherspoons in Hull ?\n",
            "\n",
            "89) Why sneer at UK hospitality sector?\n",
            "\n",
            "Because you can't ski to work in your favourite Fendi pants?\n",
            "\n",
            "90) ', the sports and hospitality sector of   Group UK and Ireland, has announced it will no longer use air freight in the supply of produce to its portfolio of hospitality and sports venues.\n",
            "\n",
            "91) That's a big call\n",
            "\n",
            "92) ‘I can’t recruit chefs’: Brexit and Covid plunge hospitality into crisis\n",
            "\n",
            "93) Why didn't this occur to anyone in the 50s when West Indians were brought in to fill transport jobs?\n",
            "\n",
            "94) Big time!\n",
            "\n",
            "95) Here we go re 2018\n",
            "\n",
            "96) Is it ..why?\n",
            "\n",
            "97) How would you replace all the jobs lost from the Wales given our second largest employer is the UK public sector? Currency? Etc etc. Those blog posts do nothing to address those issues. Reads like a race to the bottom. Also why do people get so upset over a flag here\n",
            "\n",
            "98) Here we go re 2018\n",
            "\n"
          ]
        }
      ]
    },
    {
      "cell_type": "code",
      "metadata": {
        "colab": {
          "base_uri": "https://localhost:8080/"
        },
        "id": "411e79f9",
        "outputId": "5a946956-9ad9-4065-f405-fa2da9d8f608"
      },
      "source": [
        "#Percentage of positive comments\n",
        "pcomments =df[df.Analysis == 'Positive']\n",
        "pcomments = pcomments['Comment_Content']\n",
        "pcomments \n",
        "\n",
        "round( (pcomments.shape[0] / df.shape [0]) *100, 0)\n",
        "\n"
      ],
      "id": "411e79f9",
      "execution_count": null,
      "outputs": [
        {
          "output_type": "execute_result",
          "data": {
            "text/plain": [
              "38.0"
            ]
          },
          "metadata": {},
          "execution_count": 9
        }
      ]
    },
    {
      "cell_type": "code",
      "metadata": {
        "colab": {
          "base_uri": "https://localhost:8080/"
        },
        "id": "5ea01b83",
        "outputId": "e9eb1a62-357c-413c-e195-255db691af36"
      },
      "source": [
        "\n",
        "#Percentage of negative comments\n",
        "ncomments =df[df.Analysis == 'Negative']\n",
        "ncomments = ncomments['Comment_Content']\n",
        "ncomments \n",
        "\n",
        "round( (ncomments.shape[0] / df.shape [0]) *100, 0)\n",
        "\n",
        "\n",
        "\n"
      ],
      "id": "5ea01b83",
      "execution_count": null,
      "outputs": [
        {
          "output_type": "execute_result",
          "data": {
            "text/plain": [
              "27.0"
            ]
          },
          "metadata": {},
          "execution_count": 10
        }
      ]
    },
    {
      "cell_type": "code",
      "metadata": {
        "colab": {
          "base_uri": "https://localhost:8080/"
        },
        "id": "57f35836",
        "outputId": "c243e4f7-36ed-4c0b-f1fc-f64c73e692cb"
      },
      "source": [
        "#percentage of neutral comments\n",
        " \n",
        "neutralcomments =df[df.Analysis == 'Neutral']\n",
        "neutralcomments = neutralcomments['Comment_Content']\n",
        "neutralcomments \n",
        "\n",
        "round( (neutralcomments.shape[0] / df.shape [0]) *100, 0)"
      ],
      "id": "57f35836",
      "execution_count": null,
      "outputs": [
        {
          "output_type": "execute_result",
          "data": {
            "text/plain": [
              "35.0"
            ]
          },
          "metadata": {},
          "execution_count": 11
        }
      ]
    },
    {
      "cell_type": "code",
      "metadata": {
        "colab": {
          "base_uri": "https://localhost:8080/",
          "height": 331
        },
        "id": "76b99253",
        "outputId": "6cfc8c62-2daf-46ef-cf3a-7999eaa0b387"
      },
      "source": [
        "#Plot the sentiments\n",
        "\n",
        "df['Analysis'].value_counts()\n",
        "\n",
        "plt.title('Sentiment Analysis')\n",
        "plt.xlabel('Sentiment')\n",
        "plt.ylabel('counts')\n",
        "df['Analysis'].value_counts().plot(kind='bar')\n",
        "\n",
        "plt.show()"
      ],
      "id": "76b99253",
      "execution_count": null,
      "outputs": [
        {
          "output_type": "display_data",
          "data": {
            "image/png": "[encoded data removed]",
            "text/plain": [
              "<Figure size 432x288 with 1 Axes>"
            ]
          },
          "metadata": {
            "needs_background": "light"
          }
        }
      ]
    },
    {
      "cell_type": "code",
      "metadata": {
        "colab": {
          "base_uri": "https://localhost:8080/",
          "height": 424
        },
        "id": "18f51c03",
        "outputId": "caae473e-7876-405e-80c0-7d0bcf1c5a03"
      },
      "source": [
        "df"
      ],
      "id": "18f51c03",
      "execution_count": null,
      "outputs": [
        {
          "output_type": "execute_result",
          "data": {
            "text/html": [
              "<div>\n",
              "<style scoped>\n",
              "    .dataframe tbody tr th:only-of-type {\n",
              "        vertical-align: middle;\n",
              "    }\n",
              "\n",
              "    .dataframe tbody tr th {\n",
              "        vertical-align: top;\n",
              "    }\n",
              "\n",
              "    .dataframe thead th {\n",
              "        text-align: right;\n",
              "    }\n",
              "</style>\n",
              "<table border=\"1\" class=\"dataframe\">\n",
              "  <thead>\n",
              "    <tr style=\"text-align: right;\">\n",
              "      <th></th>\n",
              "      <th>Comment_Content</th>\n",
              "      <th>Subjectivity</th>\n",
              "      <th>Polarity</th>\n",
              "      <th>Analysis</th>\n",
              "    </tr>\n",
              "  </thead>\n",
              "  <tbody>\n",
              "    <tr>\n",
              "      <th>0</th>\n",
              "      <td>said it today, so should</td>\n",
              "      <td>0.000000</td>\n",
              "      <td>0.000000</td>\n",
              "      <td>Neutral</td>\n",
              "    </tr>\n",
              "    <tr>\n",
              "      <th>1</th>\n",
              "      <td>If he lists enough specific examples of stuff ...</td>\n",
              "      <td>0.375000</td>\n",
              "      <td>0.000000</td>\n",
              "      <td>Neutral</td>\n",
              "    </tr>\n",
              "    <tr>\n",
              "      <th>2</th>\n",
              "      <td>I’m not sure he can say it isn’t working but h...</td>\n",
              "      <td>0.588889</td>\n",
              "      <td>-0.250000</td>\n",
              "      <td>Negative</td>\n",
              "    </tr>\n",
              "    <tr>\n",
              "      <th>3</th>\n",
              "      <td>Here's what Keir Starmer should say (in more p...</td>\n",
              "      <td>0.500000</td>\n",
              "      <td>0.500000</td>\n",
              "      <td>Positive</td>\n",
              "    </tr>\n",
              "    <tr>\n",
              "      <th>4</th>\n",
              "      <td>Something changed recently\\n\\nMany large, hous...</td>\n",
              "      <td>0.669643</td>\n",
              "      <td>0.041071</td>\n",
              "      <td>Positive</td>\n",
              "    </tr>\n",
              "    <tr>\n",
              "      <th>...</th>\n",
              "      <td>...</td>\n",
              "      <td>...</td>\n",
              "      <td>...</td>\n",
              "      <td>...</td>\n",
              "    </tr>\n",
              "    <tr>\n",
              "      <th>273</th>\n",
              "      <td>But it's not - Wales' two largest employers by...</td>\n",
              "      <td>0.273333</td>\n",
              "      <td>0.200000</td>\n",
              "      <td>Positive</td>\n",
              "    </tr>\n",
              "    <tr>\n",
              "      <th>274</th>\n",
              "      <td>Free flights and $1,000 vouchers: Australian h...</td>\n",
              "      <td>0.400000</td>\n",
              "      <td>0.200000</td>\n",
              "      <td>Positive</td>\n",
              "    </tr>\n",
              "    <tr>\n",
              "      <th>275</th>\n",
              "      <td>Australia might be locked down for years if th...</td>\n",
              "      <td>0.212963</td>\n",
              "      <td>-0.107407</td>\n",
              "      <td>Negative</td>\n",
              "    </tr>\n",
              "    <tr>\n",
              "      <th>276</th>\n",
              "      <td>Couldn’t agree more. How about they throw thos...</td>\n",
              "      <td>0.308333</td>\n",
              "      <td>0.212500</td>\n",
              "      <td>Positive</td>\n",
              "    </tr>\n",
              "    <tr>\n",
              "      <th>277</th>\n",
              "      <td>Here we go re 2018</td>\n",
              "      <td>0.000000</td>\n",
              "      <td>0.000000</td>\n",
              "      <td>Neutral</td>\n",
              "    </tr>\n",
              "  </tbody>\n",
              "</table>\n",
              "<p>278 rows × 4 columns</p>\n",
              "</div>"
            ],
            "text/plain": [
              "                                       Comment_Content  ...  Analysis\n",
              "0                             said it today, so should  ...   Neutral\n",
              "1    If he lists enough specific examples of stuff ...  ...   Neutral\n",
              "2    I’m not sure he can say it isn’t working but h...  ...  Negative\n",
              "3    Here's what Keir Starmer should say (in more p...  ...  Positive\n",
              "4    Something changed recently\\n\\nMany large, hous...  ...  Positive\n",
              "..                                                 ...  ...       ...\n",
              "273  But it's not - Wales' two largest employers by...  ...  Positive\n",
              "274  Free flights and $1,000 vouchers: Australian h...  ...  Positive\n",
              "275  Australia might be locked down for years if th...  ...  Negative\n",
              "276  Couldn’t agree more. How about they throw thos...  ...  Positive\n",
              "277                                 Here we go re 2018  ...   Neutral\n",
              "\n",
              "[278 rows x 4 columns]"
            ]
          },
          "metadata": {},
          "execution_count": 13
        }
      ]
    },
    {
      "cell_type": "code",
      "metadata": {
        "id": "db4d7bf2"
      },
      "source": [
        "#Create label\n",
        "\n",
        "lb_make = LabelEncoder()\n",
        "\n",
        "df['label'] = lb_make.fit_transform(df['Analysis'].astype(str))"
      ],
      "id": "db4d7bf2",
      "execution_count": null,
      "outputs": []
    },
    {
      "cell_type": "code",
      "metadata": {
        "colab": {
          "base_uri": "https://localhost:8080/",
          "height": 206
        },
        "id": "e47c9cee",
        "outputId": "22785591-cdec-4ade-fa36-a7a4190cd481"
      },
      "source": [
        "df.head()"
      ],
      "id": "e47c9cee",
      "execution_count": null,
      "outputs": [
        {
          "output_type": "execute_result",
          "data": {
            "text/html": [
              "<div>\n",
              "<style scoped>\n",
              "    .dataframe tbody tr th:only-of-type {\n",
              "        vertical-align: middle;\n",
              "    }\n",
              "\n",
              "    .dataframe tbody tr th {\n",
              "        vertical-align: top;\n",
              "    }\n",
              "\n",
              "    .dataframe thead th {\n",
              "        text-align: right;\n",
              "    }\n",
              "</style>\n",
              "<table border=\"1\" class=\"dataframe\">\n",
              "  <thead>\n",
              "    <tr style=\"text-align: right;\">\n",
              "      <th></th>\n",
              "      <th>Comment_Content</th>\n",
              "      <th>Subjectivity</th>\n",
              "      <th>Polarity</th>\n",
              "      <th>Analysis</th>\n",
              "      <th>label</th>\n",
              "    </tr>\n",
              "  </thead>\n",
              "  <tbody>\n",
              "    <tr>\n",
              "      <th>0</th>\n",
              "      <td>said it today, so should</td>\n",
              "      <td>0.000000</td>\n",
              "      <td>0.000000</td>\n",
              "      <td>Neutral</td>\n",
              "      <td>1</td>\n",
              "    </tr>\n",
              "    <tr>\n",
              "      <th>1</th>\n",
              "      <td>If he lists enough specific examples of stuff ...</td>\n",
              "      <td>0.375000</td>\n",
              "      <td>0.000000</td>\n",
              "      <td>Neutral</td>\n",
              "      <td>1</td>\n",
              "    </tr>\n",
              "    <tr>\n",
              "      <th>2</th>\n",
              "      <td>I’m not sure he can say it isn’t working but h...</td>\n",
              "      <td>0.588889</td>\n",
              "      <td>-0.250000</td>\n",
              "      <td>Negative</td>\n",
              "      <td>0</td>\n",
              "    </tr>\n",
              "    <tr>\n",
              "      <th>3</th>\n",
              "      <td>Here's what Keir Starmer should say (in more p...</td>\n",
              "      <td>0.500000</td>\n",
              "      <td>0.500000</td>\n",
              "      <td>Positive</td>\n",
              "      <td>2</td>\n",
              "    </tr>\n",
              "    <tr>\n",
              "      <th>4</th>\n",
              "      <td>Something changed recently\\n\\nMany large, hous...</td>\n",
              "      <td>0.669643</td>\n",
              "      <td>0.041071</td>\n",
              "      <td>Positive</td>\n",
              "      <td>2</td>\n",
              "    </tr>\n",
              "  </tbody>\n",
              "</table>\n",
              "</div>"
            ],
            "text/plain": [
              "                                     Comment_Content  ...  label\n",
              "0                           said it today, so should  ...      1\n",
              "1  If he lists enough specific examples of stuff ...  ...      1\n",
              "2  I’m not sure he can say it isn’t working but h...  ...      0\n",
              "3  Here's what Keir Starmer should say (in more p...  ...      2\n",
              "4  Something changed recently\\n\\nMany large, hous...  ...      2\n",
              "\n",
              "[5 rows x 5 columns]"
            ]
          },
          "metadata": {},
          "execution_count": 15
        }
      ]
    },
    {
      "cell_type": "code",
      "metadata": {
        "id": "2e310a0d"
      },
      "source": [
        "#Create your 'x'... feature\n",
        "x =df.drop(columns =['Comment_Content','Subjectivity', 'Analysis','label'])"
      ],
      "id": "2e310a0d",
      "execution_count": null,
      "outputs": []
    },
    {
      "cell_type": "code",
      "metadata": {
        "id": "ae969782"
      },
      "source": [
        "#Create 'y'.... label \n",
        "y = df['label']"
      ],
      "id": "ae969782",
      "execution_count": null,
      "outputs": []
    },
    {
      "cell_type": "code",
      "metadata": {
        "id": "ff3490b8"
      },
      "source": [
        "#Split your test and train data\n",
        "x_train, x_test, y_train, y_test = train_test_split(x, y, test_size =.30, random_state=2) "
      ],
      "id": "ff3490b8",
      "execution_count": null,
      "outputs": []
    },
    {
      "cell_type": "code",
      "metadata": {
        "colab": {
          "base_uri": "https://localhost:8080/"
        },
        "id": "feab9acc",
        "outputId": "8cbe2a61-bc97-4b12-b58a-cd4b1ff7fded"
      },
      "source": [
        "#check\n",
        "y_train.shape,y_test.shape"
      ],
      "id": "feab9acc",
      "execution_count": null,
      "outputs": [
        {
          "output_type": "execute_result",
          "data": {
            "text/plain": [
              "((194,), (84,))"
            ]
          },
          "metadata": {},
          "execution_count": 19
        }
      ]
    },
    {
      "cell_type": "code",
      "metadata": {
        "colab": {
          "base_uri": "https://localhost:8080/"
        },
        "id": "3eafe781",
        "outputId": "44a13fc8-17c0-4e41-fafc-ec7f558bc82b"
      },
      "source": [
        "#check\n",
        "x_train.shape,x_test.shape"
      ],
      "id": "3eafe781",
      "execution_count": null,
      "outputs": [
        {
          "output_type": "execute_result",
          "data": {
            "text/plain": [
              "((194, 1), (84, 1))"
            ]
          },
          "metadata": {},
          "execution_count": 20
        }
      ]
    },
    {
      "cell_type": "code",
      "metadata": {
        "id": "4bfe2544"
      },
      "source": [
        "logistic_regression = LogisticRegression()"
      ],
      "id": "4bfe2544",
      "execution_count": null,
      "outputs": []
    },
    {
      "cell_type": "code",
      "metadata": {
        "id": "65550f21"
      },
      "source": [
        "model_1=logistic_regression.fit(x_train, y_train)"
      ],
      "id": "65550f21",
      "execution_count": null,
      "outputs": []
    },
    {
      "cell_type": "code",
      "metadata": {
        "colab": {
          "base_uri": "https://localhost:8080/"
        },
        "id": "888df889",
        "outputId": "d2a3c33a-7545-4e25-fda3-e67b9f85741d"
      },
      "source": [
        "model_1"
      ],
      "id": "888df889",
      "execution_count": null,
      "outputs": [
        {
          "output_type": "execute_result",
          "data": {
            "text/plain": [
              "LogisticRegression()"
            ]
          },
          "metadata": {},
          "execution_count": 23
        }
      ]
    },
    {
      "cell_type": "code",
      "metadata": {
        "id": "4b6af652"
      },
      "source": [
        "y_pred_test = model_1.predict(x_test)"
      ],
      "id": "4b6af652",
      "execution_count": null,
      "outputs": []
    },
    {
      "cell_type": "code",
      "metadata": {
        "colab": {
          "base_uri": "https://localhost:8080/"
        },
        "id": "e2878404",
        "outputId": "9c926a95-7762-4ffe-9249-72788cfe64f3"
      },
      "source": [
        "y_pred_test"
      ],
      "id": "e2878404",
      "execution_count": null,
      "outputs": [
        {
          "output_type": "execute_result",
          "data": {
            "text/plain": [
              "array([0, 1, 1, 2, 0, 0, 2, 0, 1, 1, 1, 2, 2, 0, 1, 2, 1, 1, 2, 2, 1, 0,\n",
              "       2, 1, 1, 1, 2, 1, 1, 1, 1, 1, 1, 1, 0, 1, 1, 2, 2, 1, 2, 2, 2, 1,\n",
              "       2, 1, 2, 1, 1, 2, 1, 2, 2, 2, 2, 2, 1, 1, 1, 2, 1, 1, 1, 0, 0, 0,\n",
              "       2, 0, 0, 2, 0, 1, 1, 2, 1, 2, 0, 2, 0, 1, 2, 1, 1, 1])"
            ]
          },
          "metadata": {},
          "execution_count": 25
        }
      ]
    },
    {
      "cell_type": "code",
      "metadata": {
        "colab": {
          "base_uri": "https://localhost:8080/"
        },
        "id": "d63b3103",
        "outputId": "8e3e2f7c-4f32-445f-def1-5403ff6c6f2a"
      },
      "source": [
        "model_1.classes_"
      ],
      "id": "d63b3103",
      "execution_count": null,
      "outputs": [
        {
          "output_type": "execute_result",
          "data": {
            "text/plain": [
              "array([0, 1, 2])"
            ]
          },
          "metadata": {},
          "execution_count": 26
        }
      ]
    },
    {
      "cell_type": "code",
      "metadata": {
        "colab": {
          "base_uri": "https://localhost:8080/"
        },
        "id": "e03e6808",
        "outputId": "3108b7b9-3a42-48e1-b42a-4e9f176b8314"
      },
      "source": [
        "model_1.intercept_"
      ],
      "id": "e03e6808",
      "execution_count": null,
      "outputs": [
        {
          "output_type": "execute_result",
          "data": {
            "text/plain": [
              "array([-0.12362783,  0.27288093, -0.1492531 ])"
            ]
          },
          "metadata": {},
          "execution_count": 27
        }
      ]
    },
    {
      "cell_type": "code",
      "metadata": {
        "colab": {
          "base_uri": "https://localhost:8080/"
        },
        "id": "3d0e6468",
        "outputId": "6842947f-865c-4b01-ea4d-e68570559068"
      },
      "source": [
        "model_1.coef_"
      ],
      "id": "3d0e6468",
      "execution_count": null,
      "outputs": [
        {
          "output_type": "execute_result",
          "data": {
            "text/plain": [
              "array([[-4.57396589],\n",
              "       [-0.38488483],\n",
              "       [ 4.95885072]])"
            ]
          },
          "metadata": {},
          "execution_count": 28
        }
      ]
    },
    {
      "cell_type": "code",
      "metadata": {
        "colab": {
          "base_uri": "https://localhost:8080/"
        },
        "id": "581c69ac",
        "outputId": "1dbdf1d1-1c6a-4e84-9052-8f244f096974"
      },
      "source": [
        "model_1.predict_proba(x)"
      ],
      "id": "581c69ac",
      "execution_count": null,
      "outputs": [
        {
          "output_type": "execute_result",
          "data": {
            "text/plain": [
              "array([[2.88906643e-01, 4.29495973e-01, 2.81597384e-01],\n",
              "       [2.88906643e-01, 4.29495973e-01, 2.81597384e-01],\n",
              "       [6.20513346e-01, 3.23689788e-01, 5.57968656e-02],\n",
              "       [7.83712681e-03, 9.46249882e-02, 8.97537885e-01],\n",
              "       [2.37668803e-01, 4.19657302e-01, 3.42673895e-01],\n",
              "       [1.21209410e-01, 3.48559429e-01, 5.30231161e-01],\n",
              "       [6.32830617e-02, 2.68109837e-01, 6.68607101e-01],\n",
              "       [2.27121901e-01, 4.16318128e-01, 3.56559971e-01],\n",
              "       [5.59276045e-01, 3.59723515e-01, 8.10004397e-02],\n",
              "       [4.76533196e-01, 3.98237080e-01, 1.25229724e-01],\n",
              "       [1.72750540e-01, 3.90436546e-01, 4.36812913e-01],\n",
              "       [2.88906643e-01, 4.29495973e-01, 2.81597384e-01],\n",
              "       [2.88906643e-01, 4.29495973e-01, 2.81597384e-01],\n",
              "       [9.09445292e-02, 3.12490707e-01, 5.96564764e-01],\n",
              "       [3.11591236e-02, 1.92462903e-01, 7.76377973e-01],\n",
              "       [2.88906643e-01, 4.29495973e-01, 2.81597384e-01],\n",
              "       [2.88906643e-01, 4.29495973e-01, 2.81597384e-01],\n",
              "       [3.72944917e-01, 4.26717385e-01, 2.00337698e-01],\n",
              "       [2.88906643e-01, 4.29495973e-01, 2.81597384e-01],\n",
              "       [4.59512262e-02, 2.31806880e-01, 7.22241894e-01],\n",
              "       [2.88906643e-01, 4.29495973e-01, 2.81597384e-01],\n",
              "       [2.88906643e-01, 4.29495973e-01, 2.81597384e-01],\n",
              "       [2.88906643e-01, 4.29495973e-01, 2.81597384e-01],\n",
              "       [2.88906643e-01, 4.29495973e-01, 2.81597384e-01],\n",
              "       [6.00681793e-01, 3.36003592e-01, 6.33146153e-02],\n",
              "       [2.88906643e-01, 4.29495973e-01, 2.81597384e-01],\n",
              "       [9.09394652e-01, 8.87998743e-02, 1.80547389e-03],\n",
              "       [2.88906643e-01, 4.29495973e-01, 2.81597384e-01],\n",
              "       [2.88906643e-01, 4.29495973e-01, 2.81597384e-01],\n",
              "       [7.61012605e-02, 2.90358636e-01, 6.33540104e-01],\n",
              "       [2.88906643e-01, 4.29495973e-01, 2.81597384e-01],\n",
              "       [6.67482748e-02, 2.74454496e-01, 6.58797229e-01],\n",
              "       [2.88906643e-01, 4.29495973e-01, 2.81597384e-01],\n",
              "       [2.32899505e-02, 1.66573411e-01, 8.10136638e-01],\n",
              "       [2.88906643e-01, 4.29495973e-01, 2.81597384e-01],\n",
              "       [2.60036522e-01, 4.25190475e-01, 3.14773002e-01],\n",
              "       [2.88906643e-01, 4.29495973e-01, 2.81597384e-01],\n",
              "       [7.09942507e-01, 2.61212017e-01, 2.88454766e-02],\n",
              "       [8.39391634e-01, 1.53645134e-01, 6.96323255e-03],\n",
              "       [5.59276045e-01, 3.59723515e-01, 8.10004397e-02],\n",
              "       [1.27236187e-01, 3.54573629e-01, 5.18190184e-01],\n",
              "       [2.88906643e-01, 4.29495973e-01, 2.81597384e-01],\n",
              "       [7.83712681e-03, 9.46249882e-02, 8.97537885e-01],\n",
              "       [6.67313895e-01, 2.92350667e-01, 4.03354378e-02],\n",
              "       [7.76029292e-01, 2.08545574e-01, 1.54251334e-02],\n",
              "       [2.88906643e-01, 4.29495973e-01, 2.81597384e-01],\n",
              "       [1.55436635e-01, 3.78592356e-01, 4.65971010e-01],\n",
              "       [2.88906643e-01, 4.29495973e-01, 2.81597384e-01],\n",
              "       [2.88906643e-01, 4.29495973e-01, 2.81597384e-01],\n",
              "       [1.41378901e-01, 3.67416629e-01, 4.91204470e-01],\n",
              "       [2.88906643e-01, 4.29495973e-01, 2.81597384e-01],\n",
              "       [2.01169914e-01, 4.05902300e-01, 3.92927786e-01],\n",
              "       [2.32899505e-02, 1.66573411e-01, 8.10136638e-01],\n",
              "       [2.88906643e-01, 4.29495973e-01, 2.81597384e-01],\n",
              "       [1.88367308e-02, 1.49597734e-01, 8.31565535e-01],\n",
              "       [4.01770870e-01, 4.21281236e-01, 1.76947894e-01],\n",
              "       [2.88906643e-01, 4.29495973e-01, 2.81597384e-01],\n",
              "       [5.15840027e-01, 3.81505505e-01, 1.02654467e-01],\n",
              "       [2.88906643e-01, 4.29495973e-01, 2.81597384e-01],\n",
              "       [2.96652492e-01, 4.30150502e-01, 2.73197007e-01],\n",
              "       [2.88906643e-01, 4.29495973e-01, 2.81597384e-01],\n",
              "       [2.50981705e-03, 5.11567421e-02, 9.46333441e-01],\n",
              "       [3.19641414e-01, 4.30937611e-01, 2.49420975e-01],\n",
              "       [7.16114585e-02, 2.82934695e-01, 6.45453847e-01],\n",
              "       [8.13759130e-01, 1.76330403e-01, 9.91046740e-03],\n",
              "       [3.44385972e-01, 4.29974869e-01, 2.25639159e-01],\n",
              "       [4.59416890e-01, 4.04572797e-01, 1.36010313e-01],\n",
              "       [7.83712681e-03, 9.46249882e-02, 8.97537885e-01],\n",
              "       [4.59416890e-01, 4.04572797e-01, 1.36010313e-01],\n",
              "       [2.88906643e-01, 4.29495973e-01, 2.81597384e-01],\n",
              "       [1.27236187e-01, 3.54573629e-01, 5.18190184e-01],\n",
              "       [5.23201990e-02, 2.46137068e-01, 7.01542733e-01],\n",
              "       [2.88906643e-01, 4.29495973e-01, 2.81597384e-01],\n",
              "       [6.20513346e-01, 3.23689788e-01, 5.57968656e-02],\n",
              "       [2.88906643e-01, 4.29495973e-01, 2.81597384e-01],\n",
              "       [4.57125446e-01, 4.05375293e-01, 1.37499261e-01],\n",
              "       [2.88906643e-01, 4.29495973e-01, 2.81597384e-01],\n",
              "       [8.89998634e-01, 1.07155393e-01, 2.84597210e-03],\n",
              "       [7.83712681e-03, 9.46249882e-02, 8.97537885e-01],\n",
              "       [1.14126335e-01, 3.41038367e-01, 5.44835298e-01],\n",
              "       [8.39391634e-01, 1.53645134e-01, 6.96323255e-03],\n",
              "       [7.55507084e-02, 2.89468115e-01, 6.34981177e-01],\n",
              "       [2.08081603e-01, 4.08998367e-01, 3.82920030e-01],\n",
              "       [7.83712681e-03, 9.46249882e-02, 8.97537885e-01],\n",
              "       [1.56554680e-01, 3.79418657e-01, 4.64026663e-01],\n",
              "       [9.09445292e-02, 3.12490707e-01, 5.96564764e-01],\n",
              "       [5.00987278e-01, 3.88174369e-01, 1.10838353e-01],\n",
              "       [5.59276045e-01, 3.59723515e-01, 8.10004397e-02],\n",
              "       [4.59416890e-01, 4.04572797e-01, 1.36010313e-01],\n",
              "       [4.79939835e-01, 3.96905481e-01, 1.23154684e-01],\n",
              "       [5.59276045e-01, 3.59723515e-01, 8.10004397e-02],\n",
              "       [4.24886227e-01, 4.15474854e-01, 1.59638919e-01],\n",
              "       [2.50981705e-03, 5.11567421e-02, 9.46333441e-01],\n",
              "       [9.09445292e-02, 3.12490707e-01, 5.96564764e-01],\n",
              "       [2.88906643e-01, 4.29495973e-01, 2.81597384e-01],\n",
              "       [2.88906643e-01, 4.29495973e-01, 2.81597384e-01],\n",
              "       [2.88906643e-01, 4.29495973e-01, 2.81597384e-01],\n",
              "       [2.88906643e-01, 4.29495973e-01, 2.81597384e-01],\n",
              "       [7.83712681e-03, 9.46249882e-02, 8.97537885e-01],\n",
              "       [2.88906643e-01, 4.29495973e-01, 2.81597384e-01],\n",
              "       [2.88906643e-01, 4.29495973e-01, 2.81597384e-01],\n",
              "       [2.88906643e-01, 4.29495973e-01, 2.81597384e-01],\n",
              "       [1.41378901e-01, 3.67416629e-01, 4.91204470e-01],\n",
              "       [2.88906643e-01, 4.29495973e-01, 2.81597384e-01],\n",
              "       [9.09445292e-02, 3.12490707e-01, 5.96564764e-01],\n",
              "       [6.94491402e-02, 2.79222850e-01, 6.51328010e-01],\n",
              "       [2.88906643e-01, 4.29495973e-01, 2.81597384e-01],\n",
              "       [2.88906643e-01, 4.29495973e-01, 2.81597384e-01],\n",
              "       [8.08357204e-01, 1.81031088e-01, 1.06117082e-02],\n",
              "       [2.88906643e-01, 4.29495973e-01, 2.81597384e-01],\n",
              "       [2.88906643e-01, 4.29495973e-01, 2.81597384e-01],\n",
              "       [7.83712681e-03, 9.46249882e-02, 8.97537885e-01],\n",
              "       [5.43203250e-01, 3.68168099e-01, 8.86286510e-02],\n",
              "       [4.89505557e-04, 2.07680169e-02, 9.78742478e-01],\n",
              "       [2.88906643e-01, 4.29495973e-01, 2.81597384e-01],\n",
              "       [2.88906643e-01, 4.29495973e-01, 2.81597384e-01],\n",
              "       [7.83712681e-03, 9.46249882e-02, 8.97537885e-01],\n",
              "       [2.88906643e-01, 4.29495973e-01, 2.81597384e-01],\n",
              "       [2.88906643e-01, 4.29495973e-01, 2.81597384e-01],\n",
              "       [8.89998634e-01, 1.07155393e-01, 2.84597210e-03],\n",
              "       [3.10881598e-02, 1.92248152e-01, 7.76663688e-01],\n",
              "       [9.09445292e-02, 3.12490707e-01, 5.96564764e-01],\n",
              "       [2.17074694e-02, 1.60770774e-01, 8.17521757e-01],\n",
              "       [6.20513346e-01, 3.23689788e-01, 5.57968656e-02],\n",
              "       [6.32830617e-02, 2.68109837e-01, 6.68607101e-01],\n",
              "       [1.72750540e-01, 3.90436546e-01, 4.36812913e-01],\n",
              "       [2.88906643e-01, 4.29495973e-01, 2.81597384e-01],\n",
              "       [2.88906643e-01, 4.29495973e-01, 2.81597384e-01],\n",
              "       [2.88906643e-01, 4.29495973e-01, 2.81597384e-01],\n",
              "       [3.58730327e-01, 4.28614694e-01, 2.12654978e-01],\n",
              "       [8.89998634e-01, 1.07155393e-01, 2.84597210e-03],\n",
              "       [2.88906643e-01, 4.29495973e-01, 2.81597384e-01],\n",
              "       [2.88906643e-01, 4.29495973e-01, 2.81597384e-01],\n",
              "       [2.88906643e-01, 4.29495973e-01, 2.81597384e-01],\n",
              "       [1.72750540e-01, 3.90436546e-01, 4.36812913e-01],\n",
              "       [1.51871873e-02, 1.33930412e-01, 8.50882401e-01],\n",
              "       [3.21871900e-01, 4.30925569e-01, 2.47202531e-01],\n",
              "       [3.21871900e-01, 4.30925569e-01, 2.47202531e-01],\n",
              "       [2.88906643e-01, 4.29495973e-01, 2.81597384e-01],\n",
              "       [7.69348239e-01, 2.14095045e-01, 1.65567157e-02],\n",
              "       [1.72750540e-01, 3.90436546e-01, 4.36812913e-01],\n",
              "       [6.25374785e-01, 3.20581047e-01, 5.40441681e-02],\n",
              "       [3.07609608e-01, 4.30736367e-01, 2.61654025e-01],\n",
              "       [2.88906643e-01, 4.29495973e-01, 2.81597384e-01],\n",
              "       [3.10988433e-01, 4.30838813e-01, 2.58172754e-01],\n",
              "       [1.72750540e-01, 3.90436546e-01, 4.36812913e-01],\n",
              "       [2.88906643e-01, 4.29495973e-01, 2.81597384e-01],\n",
              "       [2.88906643e-01, 4.29495973e-01, 2.81597384e-01],\n",
              "       [5.15840027e-01, 3.81505505e-01, 1.02654467e-01],\n",
              "       [7.83712681e-03, 9.46249882e-02, 8.97537885e-01],\n",
              "       [1.48838151e-01, 3.73531889e-01, 4.77629961e-01],\n",
              "       [4.59416890e-01, 4.04572797e-01, 1.36010313e-01],\n",
              "       [2.88906643e-01, 4.29495973e-01, 2.81597384e-01],\n",
              "       [2.88906643e-01, 4.29495973e-01, 2.81597384e-01],\n",
              "       [4.59416890e-01, 4.04572797e-01, 1.36010313e-01],\n",
              "       [1.48838151e-01, 3.73531889e-01, 4.77629961e-01],\n",
              "       [2.27121901e-01, 4.16318128e-01, 3.56559971e-01],\n",
              "       [5.59276045e-01, 3.59723515e-01, 8.10004397e-02],\n",
              "       [9.52760668e-01, 4.68424388e-02, 3.96893400e-04],\n",
              "       [1.48838151e-01, 3.73531889e-01, 4.77629961e-01],\n",
              "       [8.39391634e-01, 1.53645134e-01, 6.96323255e-03],\n",
              "       [2.88906643e-01, 4.29495973e-01, 2.81597384e-01],\n",
              "       [7.09942507e-01, 2.61212017e-01, 2.88454766e-02],\n",
              "       [2.88906643e-01, 4.29495973e-01, 2.81597384e-01],\n",
              "       [4.04339146e-01, 4.20697949e-01, 1.74962905e-01],\n",
              "       [2.88906643e-01, 4.29495973e-01, 2.81597384e-01],\n",
              "       [5.59276045e-01, 3.59723515e-01, 8.10004397e-02],\n",
              "       [1.22105801e-02, 1.19569530e-01, 8.68219890e-01],\n",
              "       [5.18053363e-01, 3.80476738e-01, 1.01469899e-01],\n",
              "       [2.88906643e-01, 4.29495973e-01, 2.81597384e-01],\n",
              "       [2.88906643e-01, 4.29495973e-01, 2.81597384e-01],\n",
              "       [2.88906643e-01, 4.29495973e-01, 2.81597384e-01],\n",
              "       [7.83712681e-03, 9.46249882e-02, 8.97537885e-01],\n",
              "       [4.80317973e-01, 3.96756250e-01, 1.22925777e-01],\n",
              "       [3.45520580e-01, 4.29888136e-01, 2.24591284e-01],\n",
              "       [2.88906643e-01, 4.29495973e-01, 2.81597384e-01],\n",
              "       [1.79183579e-01, 3.94346670e-01, 4.26469751e-01],\n",
              "       [1.37746161e-01, 3.64278976e-01, 4.97974863e-01],\n",
              "       [4.59416890e-01, 4.04572797e-01, 1.36010313e-01],\n",
              "       [2.88906643e-01, 4.29495973e-01, 2.81597384e-01],\n",
              "       [4.50495322e-01, 4.07635249e-01, 1.41869430e-01],\n",
              "       [4.59416890e-01, 4.04572797e-01, 1.36010313e-01],\n",
              "       [2.16310141e-02, 1.60484401e-01, 8.17884585e-01],\n",
              "       [5.59276045e-01, 3.59723515e-01, 8.10004397e-02],\n",
              "       [1.56554680e-01, 3.79418657e-01, 4.64026663e-01],\n",
              "       [4.07549962e-01, 4.19946661e-01, 1.72503377e-01],\n",
              "       [2.88906643e-01, 4.29495973e-01, 2.81597384e-01],\n",
              "       [4.59416890e-01, 4.04572797e-01, 1.36010313e-01],\n",
              "       [1.13668952e-01, 3.40535056e-01, 5.45795992e-01],\n",
              "       [2.96992040e-02, 1.87983253e-01, 7.82317543e-01],\n",
              "       [2.88906643e-01, 4.29495973e-01, 2.81597384e-01],\n",
              "       [2.88906643e-01, 4.29495973e-01, 2.81597384e-01],\n",
              "       [2.88906643e-01, 4.29495973e-01, 2.81597384e-01],\n",
              "       [4.42599748e-02, 2.27773758e-01, 7.27966267e-01],\n",
              "       [2.88906643e-01, 4.29495973e-01, 2.81597384e-01],\n",
              "       [2.88906643e-01, 4.29495973e-01, 2.81597384e-01],\n",
              "       [7.83712681e-03, 9.46249882e-02, 8.97537885e-01],\n",
              "       [1.68607167e-01, 3.87781847e-01, 4.43610986e-01],\n",
              "       [2.88906643e-01, 4.29495973e-01, 2.81597384e-01],\n",
              "       [2.88906643e-01, 4.29495973e-01, 2.81597384e-01],\n",
              "       [3.55764143e-01, 4.28942426e-01, 2.15293432e-01],\n",
              "       [2.15593390e-01, 4.12092488e-01, 3.72314122e-01],\n",
              "       [2.88906643e-01, 4.29495973e-01, 2.81597384e-01],\n",
              "       [2.27121901e-01, 4.16318128e-01, 3.56559971e-01],\n",
              "       [8.35398722e-03, 9.78921367e-02, 8.93753876e-01],\n",
              "       [8.58202926e-01, 1.36615824e-01, 5.18125061e-03],\n",
              "       [2.88906643e-01, 4.29495973e-01, 2.81597384e-01],\n",
              "       [6.32830617e-02, 2.68109837e-01, 6.68607101e-01],\n",
              "       [7.83712681e-03, 9.46249882e-02, 8.97537885e-01],\n",
              "       [2.88906643e-01, 4.29495973e-01, 2.81597384e-01],\n",
              "       [6.20513346e-01, 3.23689788e-01, 5.57968656e-02],\n",
              "       [2.88906643e-01, 4.29495973e-01, 2.81597384e-01],\n",
              "       [2.88906643e-01, 4.29495973e-01, 2.81597384e-01],\n",
              "       [3.01427662e-01, 4.30454046e-01, 2.68118292e-01],\n",
              "       [2.49780158e-02, 1.72517939e-01, 8.02504045e-01],\n",
              "       [2.88906643e-01, 4.29495973e-01, 2.81597384e-01],\n",
              "       [4.30274850e-02, 2.24768769e-01, 7.32203746e-01],\n",
              "       [5.80256722e-01, 3.48049658e-01, 7.16936203e-02],\n",
              "       [2.88906643e-01, 4.29495973e-01, 2.81597384e-01],\n",
              "       [3.95169314e-01, 4.22707732e-01, 1.82122954e-01],\n",
              "       [2.88906643e-01, 4.29495973e-01, 2.81597384e-01],\n",
              "       [1.15692606e-03, 3.34329205e-02, 9.65410153e-01],\n",
              "       [3.38130563e-02, 2.00287238e-01, 7.65899705e-01],\n",
              "       [6.32830617e-02, 2.68109837e-01, 6.68607101e-01],\n",
              "       [7.83712681e-03, 9.46249882e-02, 8.97537885e-01],\n",
              "       [5.26866061e-01, 3.76292190e-01, 9.68417489e-02],\n",
              "       [2.88906643e-01, 4.29495973e-01, 2.81597384e-01],\n",
              "       [6.41161968e-01, 3.10247159e-01, 4.85908734e-02],\n",
              "       [1.89939734e-01, 4.00336598e-01, 4.09723668e-01],\n",
              "       [7.83712681e-03, 9.46249882e-02, 8.97537885e-01],\n",
              "       [2.21731180e-01, 4.14419138e-01, 3.63849682e-01],\n",
              "       [1.83940780e-02, 1.47792061e-01, 8.33813861e-01],\n",
              "       [2.88906643e-01, 4.29495973e-01, 2.81597384e-01],\n",
              "       [1.90385696e-04, 1.22800800e-02, 9.87529534e-01],\n",
              "       [1.48838151e-01, 3.73531889e-01, 4.77629961e-01],\n",
              "       [2.88906643e-01, 4.29495973e-01, 2.81597384e-01],\n",
              "       [2.27121901e-01, 4.16318128e-01, 3.56559971e-01],\n",
              "       [1.39918044e-01, 3.66167750e-01, 4.93914206e-01],\n",
              "       [1.24340228e-01, 3.51726369e-01, 5.23933403e-01],\n",
              "       [2.88906643e-01, 4.29495973e-01, 2.81597384e-01],\n",
              "       [2.08081603e-01, 4.08998367e-01, 3.82920030e-01],\n",
              "       [6.32830617e-02, 2.68109837e-01, 6.68607101e-01],\n",
              "       [4.63231487e-01, 4.03212693e-01, 1.33555820e-01],\n",
              "       [7.09942507e-01, 2.61212017e-01, 2.88454766e-02],\n",
              "       [9.09445292e-02, 3.12490707e-01, 5.96564764e-01],\n",
              "       [1.72750540e-01, 3.90436546e-01, 4.36812913e-01],\n",
              "       [2.88906643e-01, 4.29495973e-01, 2.81597384e-01],\n",
              "       [2.88906643e-01, 4.29495973e-01, 2.81597384e-01],\n",
              "       [3.38724645e-01, 4.30352976e-01, 2.30922379e-01],\n",
              "       [1.72750540e-01, 3.90436546e-01, 4.36812913e-01],\n",
              "       [4.24886227e-01, 4.15474854e-01, 1.59638919e-01],\n",
              "       [2.88906643e-01, 4.29495973e-01, 2.81597384e-01],\n",
              "       [2.88906643e-01, 4.29495973e-01, 2.81597384e-01],\n",
              "       [2.08081603e-01, 4.08998367e-01, 3.82920030e-01],\n",
              "       [9.15117410e-01, 8.33326501e-02, 1.54993971e-03],\n",
              "       [2.88906643e-01, 4.29495973e-01, 2.81597384e-01],\n",
              "       [1.38730494e-01, 3.65139784e-01, 4.96129723e-01],\n",
              "       [2.88906643e-01, 4.29495973e-01, 2.81597384e-01],\n",
              "       [1.07955293e-01, 3.34058171e-01, 5.57986536e-01],\n",
              "       [2.46993579e-01, 4.22211824e-01, 3.30794597e-01],\n",
              "       [2.88906643e-01, 4.29495973e-01, 2.81597384e-01],\n",
              "       [3.55764143e-01, 4.28942426e-01, 2.15293432e-01],\n",
              "       [1.72750540e-01, 3.90436546e-01, 4.36812913e-01],\n",
              "       [1.72750540e-01, 3.90436546e-01, 4.36812913e-01],\n",
              "       [2.88906643e-01, 4.29495973e-01, 2.81597384e-01],\n",
              "       [4.59416890e-01, 4.04572797e-01, 1.36010313e-01],\n",
              "       [2.88906643e-01, 4.29495973e-01, 2.81597384e-01],\n",
              "       [6.32830617e-02, 2.68109837e-01, 6.68607101e-01],\n",
              "       [1.27236187e-01, 3.54573629e-01, 5.18190184e-01],\n",
              "       [2.88906643e-01, 4.29495973e-01, 2.81597384e-01],\n",
              "       [1.38648282e-01, 3.65068194e-01, 4.96283524e-01],\n",
              "       [2.12759858e-01, 4.10957760e-01, 3.76282382e-01],\n",
              "       [1.48838151e-01, 3.73531889e-01, 4.77629961e-01],\n",
              "       [9.09445292e-02, 3.12490707e-01, 5.96564764e-01],\n",
              "       [9.09445292e-02, 3.12490707e-01, 5.96564764e-01],\n",
              "       [4.35146177e-01, 4.12506698e-01, 1.52347125e-01],\n",
              "       [8.32600736e-02, 3.01466114e-01, 6.15273812e-01],\n",
              "       [2.88906643e-01, 4.29495973e-01, 2.81597384e-01]])"
            ]
          },
          "metadata": {},
          "execution_count": 29
        }
      ]
    },
    {
      "cell_type": "code",
      "metadata": {
        "colab": {
          "base_uri": "https://localhost:8080/"
        },
        "id": "c5513b66",
        "outputId": "388a13eb-7505-4c4e-df78-826e433dafdb"
      },
      "source": [
        "model_1.predict(x)"
      ],
      "id": "c5513b66",
      "execution_count": null,
      "outputs": [
        {
          "output_type": "execute_result",
          "data": {
            "text/plain": [
              "array([1, 1, 0, 2, 1, 2, 2, 1, 0, 0, 2, 1, 1, 2, 2, 1, 1, 1, 1, 2, 1, 1,\n",
              "       1, 1, 0, 1, 0, 1, 1, 2, 1, 2, 1, 2, 1, 1, 1, 0, 0, 0, 2, 1, 2, 0,\n",
              "       0, 1, 2, 1, 1, 2, 1, 1, 2, 1, 2, 1, 1, 0, 1, 1, 1, 2, 1, 2, 0, 1,\n",
              "       0, 2, 0, 1, 2, 2, 1, 0, 1, 0, 1, 0, 2, 2, 0, 2, 1, 2, 2, 2, 0, 0,\n",
              "       0, 0, 0, 0, 2, 2, 1, 1, 1, 1, 2, 1, 1, 1, 2, 1, 2, 2, 1, 1, 0, 1,\n",
              "       1, 2, 0, 2, 1, 1, 2, 1, 1, 0, 2, 2, 2, 0, 2, 2, 1, 1, 1, 1, 0, 1,\n",
              "       1, 1, 2, 2, 1, 1, 1, 0, 2, 0, 1, 1, 1, 2, 1, 1, 0, 2, 2, 0, 1, 1,\n",
              "       0, 2, 1, 0, 0, 2, 0, 1, 0, 1, 1, 1, 0, 2, 0, 1, 1, 1, 2, 0, 1, 1,\n",
              "       2, 2, 0, 1, 0, 0, 2, 0, 2, 1, 1, 0, 2, 2, 1, 1, 1, 2, 1, 1, 2, 2,\n",
              "       1, 1, 1, 1, 1, 1, 2, 0, 1, 2, 2, 1, 0, 1, 1, 1, 2, 1, 2, 0, 1, 1,\n",
              "       1, 2, 2, 2, 2, 0, 1, 0, 2, 2, 1, 2, 1, 2, 2, 1, 1, 2, 2, 1, 1, 2,\n",
              "       0, 0, 2, 2, 1, 1, 1, 2, 0, 1, 1, 1, 0, 1, 2, 1, 2, 1, 1, 1, 2, 2,\n",
              "       1, 0, 1, 2, 2, 1, 2, 1, 2, 2, 2, 0, 2, 1])"
            ]
          },
          "metadata": {},
          "execution_count": 30
        }
      ]
    },
    {
      "cell_type": "code",
      "metadata": {
        "colab": {
          "base_uri": "https://localhost:8080/"
        },
        "id": "f1f15a86",
        "outputId": "170fd4c9-9329-4719-94e1-bea161867be3"
      },
      "source": [
        "model_1.score(x, y)"
      ],
      "id": "f1f15a86",
      "execution_count": null,
      "outputs": [
        {
          "output_type": "execute_result",
          "data": {
            "text/plain": [
              "0.8848920863309353"
            ]
          },
          "metadata": {},
          "execution_count": 31
        }
      ]
    },
    {
      "cell_type": "code",
      "metadata": {
        "colab": {
          "base_uri": "https://localhost:8080/"
        },
        "id": "e41b4061",
        "outputId": "65b5c34a-95be-433b-8651-6537fe81a803"
      },
      "source": [
        "confusion_matrix(y, model_1.predict(x))"
      ],
      "id": "e41b4061",
      "execution_count": null,
      "outputs": [
        {
          "output_type": "execute_result",
          "data": {
            "text/plain": [
              "array([[57, 18,  0],\n",
              "       [ 0, 98,  0],\n",
              "       [ 0, 14, 91]])"
            ]
          },
          "metadata": {},
          "execution_count": 32
        }
      ]
    },
    {
      "cell_type": "code",
      "metadata": {
        "colab": {
          "base_uri": "https://localhost:8080/",
          "height": 337
        },
        "id": "940516d4",
        "outputId": "708fc4f8-4da4-43f6-ed0d-284561d8a2ed"
      },
      "source": [
        "cm = confusion_matrix(y, model_1.predict(x))\n",
        "fig, ax = plt.subplots(figsize=(7, 7))\n",
        "ax.imshow(cm)\n",
        "ax.grid(False)\n",
        "ax.xaxis.set(ticks=(0, 1), ticklabels=('Predicted 0s', 'Predicted 1s'))\n",
        "ax.yaxis.set(ticks=(0, 1), ticklabels=('Actual 0s', 'Actual 1s'))\n",
        "ax.set_ylim(1.5, -0.5)\n",
        "for i in range(2):\n",
        "    for j in range(2):\n",
        "        ax.text(j, i, cm[i, j], ha='center', va='center', color='red')\n",
        "plt.show()"
      ],
      "id": "940516d4",
      "execution_count": null,
      "outputs": [
        {
          "output_type": "display_data",
          "data": {
            "image/png": "[encoded data removed]",
            "text/plain": [
              "<Figure size 504x504 with 1 Axes>"
            ]
          },
          "metadata": {
            "needs_background": "light"
          }
        }
      ]
    },
    {
      "cell_type": "code",
      "metadata": {
        "colab": {
          "base_uri": "https://localhost:8080/"
        },
        "id": "94c4a68b",
        "outputId": "dc6378ea-92c8-4a84-90d9-f45591d1ce93"
      },
      "source": [
        "print(classification_report(y, model_1.predict(x)))"
      ],
      "id": "94c4a68b",
      "execution_count": null,
      "outputs": [
        {
          "output_type": "stream",
          "name": "stdout",
          "text": [
            "              precision    recall  f1-score   support\n",
            "\n",
            "           0       1.00      0.76      0.86        75\n",
            "           1       0.75      1.00      0.86        98\n",
            "           2       1.00      0.87      0.93       105\n",
            "\n",
            "    accuracy                           0.88       278\n",
            "   macro avg       0.92      0.88      0.88       278\n",
            "weighted avg       0.91      0.88      0.89       278\n",
            "\n"
          ]
        }
      ]
    },
    {
      "cell_type": "code",
      "metadata": {
        "id": "c69b5d11"
      },
      "source": [
        ""
      ],
      "id": "c69b5d11",
      "execution_count": null,
      "outputs": []
    },
    {
      "cell_type": "code",
      "metadata": {
        "id": "034a2382"
      },
      "source": [
        ""
      ],
      "id": "034a2382",
      "execution_count": null,
      "outputs": []
    }
  ]
}